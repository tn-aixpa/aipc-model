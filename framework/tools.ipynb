{
 "cells": [
  {
   "cell_type": "code",
   "execution_count": 1,
   "metadata": {},
   "outputs": [],
   "source": [
    "import pandas as pd"
   ]
  },
  {
   "cell_type": "code",
   "execution_count": 4,
   "metadata": {},
   "outputs": [],
   "source": [
    "tools_list = [\n",
    "    {\"tool\": \"fairlearn\", \"principle\": \"fairness\", \"resource\": \"https://fairlearn.org/main/quickstart.html\", \"domain\": \"tabular\", \"type\": \"library\", \"provider\": \"microsoft\"},\n",
    "    {\"tool\": \"holisticai\", \"principle\": \"fairness\", \"resource\": \"https://holisticai.readthedocs.io/en/latest/getting_started/quickstart.html\", \"domain\": \"tabular\", \"type\": \"library\", \"provider\": \"holisticai\"},\n",
    "    {\"tool\": \"witwidget\", \"principle\": \"explainability, fairness\", \"resource\": \"https://pair-code.github.io/what-if-tool/\", \"domain\": \"tabular\", \"type\": \"library\", \"provider\": \"google\"},\n",
    "    {\"tool\": \"giskard\", \"principle\": \"all\", \"resource\": \"https://docs.giskard.ai/en/latest/getting_started/quickstart/index.html\", \"domain\": \"tabular, nlp, llm, vision\", \"type\": \"library\", \"provider\": \"giscard\"},\n",
    "    {\"tool\": \"aif360\", \"principle\": \"fairness\", \"resource\": \"https://github.com/Trusted-AI/AIF360/tree/main\", \"domain\": \"tabular\", \"type\": \"library\", \"provider\": \"IBM\"},\n",
    "    {\"tool\": \"model-card-toolkit\", \"principle\": \"transparency\", \"resource\": \"https://github.com/tensorflow/model-card-toolkit\", \"domain\": \"all\", \"type\": \"library\", \"provider\": \"google\"},\n",
    "    {\"tool\": \"interpret\", \"principle\": \"explainability\", \"resource\": \"https://interpret.ml/docs/\", \"domain\": \"all\", \"type\": \"library\", \"provider\": \"microsoft\"},\n",
    "    {\"tool\": \"aix360\", \"principle\": \"explainability\", \"resource\": \"https://github.com/Trusted-AI/AIX360\", \"domain\": \"all\", \"type\": \"library\", \"provider\": \"IBM\"},\n",
    "    {\"tool\": \"lime\", \"principle\": \"explainability\", \"resource\": \"https://github.com/marcotcr/lime\", \"domain\": \"all\", \"type\": \"library\", \"provider\": \"lime\"},\n",
    "    {\"tool\": \"adversarial-robustness-toolbox\", \"principle\": \"robustness\", \"resource\": \"https://github.com/Trusted-AI/adversarial-robustness-toolbox?tab=readme-ov-file\", \"domain\": \"all\", \"type\": \"library\", \"provider\": \"IBM\"},\n",
    "    {\"tool\": \"aequitas\", \"principle\": \"fairness\", \"resource\": \"https://github.com/dssg/aequitas\", \"domain\": \"all\", \"type\": \"library\", \"provider\": \"aequitas\"},\n",
    "    {\"tool\": \"evidently\", \"principle\": \"quality, robustness\", \"resource\": \"https://github.com/evidentlyai/evidently\", \"domain\": \"tabular, text, embeddings\", \"type\": \"library\", \"provider\": \"evidently.ai\"},\n",
    "    {\"tool\": \"alibi-detect\", \"principle\": \"robustness\", \"resource\": \"https://github.com/SeldonIO/alibi-detect\", \"domain\": \"all\", \"type\": \"library\", \"provider\": \"SeldonIO\"},\n",
    "]\n",
    "tools_principles_df = pd.DataFrame(tools_list)\n",
    "tools_principles_df.to_csv(\"tools_principles_list.csv\", index=False)"
   ]
  },
  {
   "cell_type": "code",
   "execution_count": null,
   "metadata": {},
   "outputs": [],
   "source": []
  }
 ],
 "metadata": {
  "kernelspec": {
   "display_name": "python3.10",
   "language": "python",
   "name": "python3"
  },
  "language_info": {
   "codemirror_mode": {
    "name": "ipython",
    "version": 3
   },
   "file_extension": ".py",
   "mimetype": "text/x-python",
   "name": "python",
   "nbconvert_exporter": "python",
   "pygments_lexer": "ipython3",
   "version": "3.10.18"
  }
 },
 "nbformat": 4,
 "nbformat_minor": 2
}

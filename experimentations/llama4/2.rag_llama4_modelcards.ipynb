{
 "cells": [
  {
   "cell_type": "code",
   "execution_count": null,
   "metadata": {},
   "outputs": [],
   "source": [
    "from dotenv import load_dotenv, find_dotenv \n",
    "import transformers\n",
    "from transformers import AutoModelForCausalLM, AutoTokenizer\n",
    "\n",
    "from langchain.vectorstores import FAISS, Weaviate\n",
    "from langchain_huggingface import HuggingFaceEmbeddings\n",
    "from langchain.document_loaders import WebBaseLoader\n",
    "from langchain.text_splitter import RecursiveCharacterTextSplitter\n",
    "from langchain.llms import HuggingFaceHub\n",
    "from langchain.chains import RetrievalQA\n",
    "from langchain.schema import Document\n",
    "\n",
    "import weaviate\n",
    "from weaviate.embedded import EmbeddedOptions\n",
    "\n",
    "from huggingface_hub import list_models\n",
    "import os\n"
   ]
  },
  {
   "cell_type": "code",
   "execution_count": null,
   "metadata": {},
   "outputs": [],
   "source": [
    "\n",
    "_ = load_dotenv(find_dotenv())\n",
    "\n",
    "# 1. Set your Hugging Face token\n",
    "os.environ[\"HUGGINGFACEHUB_API_TOKEN\"] = os.get_env(\"HUGGINGFACEHUB_API_TOKEN\")\n",
    "\n",
    "# 2. Retrieve Hugging Face model cards (limited to top N)\n",
    "def fetch_model_cards(n=5):\n",
    "    model_infos = list_models(filter=\"text-classification\", sort=\"downloads\", limit=n)\n",
    "    urls = [f\"https://huggingface.co/{model.modelId}\" for model in model_infos]\n",
    "    return urls\n",
    "\n",
    "# 3. Load model cards from the web\n",
    "def load_and_split_documents(urls):\n",
    "    loader = WebBaseLoader(urls)\n",
    "    docs = loader.load()\n",
    "\n",
    "    splitter = RecursiveCharacterTextSplitter(chunk_size=1000, chunk_overlap=200)\n",
    "    return splitter.split_documents(docs)\n",
    "\n",
    "# 4. Create a retriever using FAISS\n",
    "def create_retriever(documents):\n",
    "    #embeddings = HuggingFaceEmbeddings(model_name=\"sentence-transformers/all-MiniLM-L6-v2\")\n",
    "    model_name = \"sentence-transformers/all-mpnet-base-v2\"\n",
    "    model_kwargs = {'device': 'cpu'}\n",
    "    encode_kwargs = {'normalize_embeddings': False}\n",
    "    embeddings = HuggingFaceEmbeddings(\n",
    "        model_name=model_name,\n",
    "        model_kwargs=model_kwargs,\n",
    "        encode_kwargs=encode_kwargs\n",
    "    )\n",
    "    vectordb = FAISS.from_documents(documents, embeddings)\n",
    "    return vectordb.as_retriever()\n",
    "\n",
    "# 4.2. Create a retriever using Weaviate\n",
    "def create_retriever_weaviate(documents):\n",
    "    \n",
    "    client = weaviate.Client(\n",
    "        embedded_options = EmbeddedOptions()\n",
    "    )\n",
    "\n",
    "    vectorstore = Weaviate.from_documents(\n",
    "        client = client,    \n",
    "        documents = documents,\n",
    "        embedding = OpenAIEmbeddings(),\n",
    "        by_text = False\n",
    "    )\n",
    "    return vectorstore.as_retriever()\n",
    "\n",
    "# 5. Use LLama 4 from Hugging Face Hub\n",
    "def load_llama_llm():\n",
    "    return HuggingFaceHub(\n",
    "        repo_id=\"meta-llama/Meta-Llama-3-8B-Instruct\",  # meta-llama/Llama-4-Scout-17B-16E-Instruct\n",
    "        model_kwargs={\"temperature\": 0.5, \"max_new_tokens\": 512},\n",
    "    )\n"
   ]
  },
  {
   "cell_type": "code",
   "execution_count": null,
   "metadata": {},
   "outputs": [],
   "source": [
    "\n",
    "# 6. Create RAG pipeline\n",
    "def create_rag_pipeline():\n",
    "    urls = fetch_model_cards(n=10)\n",
    "    docs = load_and_split_documents(urls)\n",
    "    retriever = create_retriever(docs)\n",
    "    llm = load_llama_llm()\n",
    "\n",
    "    rag_chain = RetrievalQA.from_chain_type(\n",
    "        llm=llm,\n",
    "        retriever=retriever,\n",
    "        return_source_documents=True\n",
    "    )\n",
    "    return rag_chain\n"
   ]
  },
  {
   "cell_type": "code",
   "execution_count": null,
   "metadata": {},
   "outputs": [],
   "source": [
    "\n",
    "# 7. Query the RAG system\n",
    "if __name__ == \"__main__\":\n",
    "    rag = create_rag_pipeline()\n",
    "    query = \"What are the key features of Meta-Llama models?\"\n",
    "    result = rag(query)\n",
    "\n",
    "    print(\"\\nGenerated Answer:\\n\", result['result'])\n",
    "    print(\"\\nSources:\\n\", [doc.metadata.get('source') for doc in result['source_documents']])\n"
   ]
  },
  {
   "cell_type": "code",
   "execution_count": null,
   "metadata": {},
   "outputs": [],
   "source": []
  }
 ],
 "metadata": {
  "kernelspec": {
   "display_name": "python3.10",
   "language": "python",
   "name": "python3"
  },
  "language_info": {
   "codemirror_mode": {
    "name": "ipython",
    "version": 3
   },
   "file_extension": ".py",
   "mimetype": "text/x-python",
   "name": "python",
   "nbconvert_exporter": "python",
   "pygments_lexer": "ipython3",
   "version": "3.10.18"
  }
 },
 "nbformat": 4,
 "nbformat_minor": 2
}

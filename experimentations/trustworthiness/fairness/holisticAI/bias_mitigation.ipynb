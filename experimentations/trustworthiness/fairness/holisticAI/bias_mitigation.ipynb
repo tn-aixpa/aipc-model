{
 "cells": [
  {
   "cell_type": "markdown",
   "metadata": {
    "id": "ZQylRIM-Gz1O"
   },
   "source": [
    "# **Mitigating Bias Implementation Workshop**"
   ]
  },
  {
   "cell_type": "markdown",
   "metadata": {
    "id": "tOVA-_RfG31L"
   },
   "source": [
    "A company is looking to hire a new employee. They use a machine learning algorithm to select the top candidates. The candidates are assigned either **0** if they're not selected or **1** if they are.  \n",
    "\n",
    "We evaluate two types of metrics:  \n",
    "### **Equality of Outcome**  \n",
    "These metrics measure the distribution of positive outcomes with respect to the protected characteristic. We focus on this when we want our model to predict an equal proportion of positive outcomes for the protected group compared to the rest of the population. We will estimate the following metrics:  \n",
    "\n",
    "- **Statistical Parity**  \n",
    "- **Disparate Impact**  \n",
    "\n",
    "### **Equality of Opportunity**  \n",
    "These metrics measure the distribution of model errors with respect to the protected characteristic. They are useful when Statistical Parity is not an appropriate goal. For example, if there are legitimate reasons for a protected group to have a different rate of positive outcomes compared to the rest of the population, but we still want to ensure the model makes the same volume and types of errors for both groups. We will estimate the following metric:  \n",
    "\n",
    "- **Equal Opportunity Difference**  \n"
   ]
  },
  {
   "cell_type": "markdown",
   "metadata": {
    "id": "1nLV8V8YHWYq"
   },
   "source": [
    "### **1. Import modules, load data, define useful functions**"
   ]
  },
  {
   "cell_type": "code",
   "execution_count": 1,
   "metadata": {
    "colab": {
     "base_uri": "https://localhost:8080/"
    },
    "id": "PH4fPh5S6NAN",
    "outputId": "b2425d3f-904e-43d8-fb41-7bc97c5172b1"
   },
   "outputs": [
    {
     "name": "stdout",
     "output_type": "stream",
     "text": [
      "Requirement already satisfied: holisticai in /opt/conda/lib/python3.10/site-packages (1.0.14)\n",
      "Requirement already satisfied: numpy>=1.25 in /opt/conda/lib/python3.10/site-packages (from holisticai) (1.26.4)\n",
      "Requirement already satisfied: pandas in /opt/conda/lib/python3.10/site-packages (from holisticai) (2.2.3)\n",
      "Requirement already satisfied: pyarrow in /opt/conda/lib/python3.10/site-packages (from holisticai) (19.0.1)\n",
      "Requirement already satisfied: pybind11>=2.12 in /opt/conda/lib/python3.10/site-packages (from holisticai) (2.13.6)\n",
      "Requirement already satisfied: scikit-learn>=1.0.2 in /opt/conda/lib/python3.10/site-packages (from holisticai) (1.6.1)\n",
      "Requirement already satisfied: scipy>=1.6.0 in /opt/conda/lib/python3.10/site-packages (from scikit-learn>=1.0.2->holisticai) (1.15.2)\n",
      "Requirement already satisfied: joblib>=1.2.0 in /opt/conda/lib/python3.10/site-packages (from scikit-learn>=1.0.2->holisticai) (1.4.2)\n",
      "Requirement already satisfied: threadpoolctl>=3.1.0 in /opt/conda/lib/python3.10/site-packages (from scikit-learn>=1.0.2->holisticai) (3.6.0)\n",
      "Requirement already satisfied: python-dateutil>=2.8.2 in /opt/conda/lib/python3.10/site-packages (from pandas->holisticai) (2.8.2)\n",
      "Requirement already satisfied: pytz>=2020.1 in /opt/conda/lib/python3.10/site-packages (from pandas->holisticai) (2023.3)\n",
      "Requirement already satisfied: tzdata>=2022.7 in /opt/conda/lib/python3.10/site-packages (from pandas->holisticai) (2025.1)\n",
      "Requirement already satisfied: six>=1.5 in /opt/conda/lib/python3.10/site-packages (from python-dateutil>=2.8.2->pandas->holisticai) (1.16.0)\n",
      "Requirement already satisfied: lightgbm==3.3.0 in /opt/conda/lib/python3.10/site-packages (3.3.0)\n",
      "Requirement already satisfied: wheel in /opt/conda/lib/python3.10/site-packages (from lightgbm==3.3.0) (0.40.0)\n",
      "Requirement already satisfied: numpy in /opt/conda/lib/python3.10/site-packages (from lightgbm==3.3.0) (1.26.4)\n",
      "Requirement already satisfied: scipy in /opt/conda/lib/python3.10/site-packages (from lightgbm==3.3.0) (1.15.2)\n",
      "Requirement already satisfied: scikit-learn!=0.22.0 in /opt/conda/lib/python3.10/site-packages (from lightgbm==3.3.0) (1.6.1)\n",
      "Requirement already satisfied: joblib>=1.2.0 in /opt/conda/lib/python3.10/site-packages (from scikit-learn!=0.22.0->lightgbm==3.3.0) (1.4.2)\n",
      "Requirement already satisfied: threadpoolctl>=3.1.0 in /opt/conda/lib/python3.10/site-packages (from scikit-learn!=0.22.0->lightgbm==3.3.0) (3.6.0)\n"
     ]
    }
   ],
   "source": [
    "import pickle\n",
    "import numpy as np\n",
    "import pandas as pd\n",
    "import matplotlib.pyplot as plt\n",
    "import seaborn as sns\n",
    "from sklearn.preprocessing import LabelEncoder\n",
    "from sklearn.model_selection import train_test_split\n",
    "from sklearn.linear_model import RidgeClassifier\n",
    "from sklearn.metrics import accuracy_score, confusion_matrix\n",
    "from sklearn.datasets import fetch_openml\n",
    "from collections import Counter\n",
    "from tqdm.notebook import tqdm\n",
    "import imblearn\n",
    "\n",
    "!pip install holisticai\n",
    "import holisticai\n",
    "from holisticai.bias.metrics import disparate_impact,statistical_parity, average_odds_diff\n",
    "\n",
    "!pip install lightgbm==3.3.0\n",
    "import lightgbm\n",
    "from lightgbm import LGBMClassifier"
   ]
  },
  {
   "cell_type": "code",
   "execution_count": 2,
   "metadata": {
    "id": "-SlJJyRaD8lS"
   },
   "outputs": [],
   "source": [
    "# Function to plot a confusion matrix with annotations\n",
    "def plot_cm(y_true, y_pred, labels=[1, 0], display_labels=[1, 0], ax=None):\n",
    "    \"\"\"\n",
    "    Plots a single confusion matrix.\n",
    "    \"\"\"\n",
    "    cm = confusion_matrix(y_true, y_pred, labels=labels)  # Compute confusion matrix\n",
    "\n",
    "    if ax is None:\n",
    "        fig, ax = plt.subplots(figsize=(4, 3))  # Create new figure if no axis is provided\n",
    "\n",
    "    # Create heatmap for confusion matrix\n",
    "    sns.heatmap(\n",
    "        cm, annot=True, fmt=\"g\", cmap=\"viridis\", cbar=False,\n",
    "        xticklabels=display_labels, yticklabels=display_labels,\n",
    "        square=True, linewidths=2, linecolor=\"black\", ax=ax, annot_kws={\"size\": 14}\n",
    "    )\n",
    "\n",
    "    # Label and format axes\n",
    "    ax.set_xlabel(\"Predicted Label\", fontsize=12, fontweight=\"bold\")\n",
    "    ax.set_ylabel(\"True Label\", fontsize=12, fontweight=\"bold\")\n",
    "    ax.set_xticklabels(display_labels, fontsize=11)\n",
    "    ax.set_yticklabels(display_labels, fontsize=11)\n",
    "\n",
    "    return cm  # Return confusion matrix\n",
    "\n",
    "# Function to plot confusion matrices for different groups in a dataset\n",
    "def plot_confusion_matrices(groups, data_test, category, y_test, y_pred_test):\n",
    "    \"\"\"\n",
    "    Plots confusion matrices for each group in a given category.\n",
    "    \"\"\"\n",
    "    num_groups = len(groups) + 1  # Number of groups to display\n",
    "    fig, axes = plt.subplots(1, num_groups, figsize=(5 * num_groups, 4))  # Create subplot grid\n",
    "\n",
    "    # Plot confusion matrix for overall data\n",
    "    cm = plot_cm(y_test, y_pred_test, ax=axes[0])\n",
    "    axes[0].set_title(\"All\", fontsize=14, fontweight=\"bold\")\n",
    "\n",
    "    # Plot confusion matrices for each group in the dataset\n",
    "    cm_dict = {\"All\": cm}  # Store overall confusion matrix\n",
    "    for i, group in enumerate(groups):\n",
    "        ax = axes[i + 1]  # Get axis for group\n",
    "        subset = data_test[data_test[category] == group]  # Filter data for group\n",
    "        cm = plot_cm(subset[\"Label\"], subset[\"Pred\"], ax=ax)  # Plot confusion matrix for group\n",
    "        cm_dict[group] = cm  # Store confusion matrix for group\n",
    "        ax.set_title(group, fontsize=14, fontweight=\"bold\")\n",
    "\n",
    "    plt.tight_layout()  # Adjust layout\n",
    "    plt.show()  # Display plot\n",
    "    return cm_dict  # Return dictionary of confusion matrices for each group\n",
    "\n",
    "# Function to calculate True Positive Rate (TPR) from confusion matrices\n",
    "def calculate_tpr(cms):\n",
    "    \"\"\"\n",
    "    Calculates True Positive Rates (TPR) for each group,\n",
    "    given a set of confusion matrices.\n",
    "    \"\"\"\n",
    "    tprs = {g: cm[0, 0] / cm[0, :].sum() for g, cm in cms.items()}  # Calculate TPR\n",
    "    return tprs  # Return dictionary of TPRs\n",
    "\n",
    "# Function to split a DataFrame into features (X), labels (y), and demographic data (dem)\n",
    "def split_data_from_df(data):\n",
    "    \"\"\"\n",
    "    Splits a DataFrame into features (X), labels (y), and demographic data (dem).\n",
    "    \"\"\"\n",
    "    y = data['Label'].values  # Extract labels\n",
    "    X = data[[str(i) for i in np.arange(500)]].values  # Extract features\n",
    "    filter_col = ['Ethnicity', 'Gender'] + [col for col in data if str(col).startswith('Ethnicity_')] + [col for col in data if str(col).startswith('Gender_')]  # Demographics\n",
    "    dem = data[filter_col].copy()  # Extract demographics\n",
    "    return X, y, dem  # Return features, labels, demographics\n",
    "\n",
    "# Function to resample a DataFrame to balance categories by oversampling based on a combined category-label identifier\n",
    "def resample_equal(df, cat):\n",
    "    \"\"\"\n",
    "    Resamples the DataFrame to balance categories by oversampling\n",
    "    based on a combined category-label identifier.\n",
    "    \"\"\"\n",
    "    df['uid'] = df[cat] + df['Label'].astype(str)  # Create unique identifier combining category and label\n",
    "    enc = LabelEncoder()  # Initialize label encoder\n",
    "    df['uid'] = enc.fit_transform(df['uid'])  # Encode the combined identifier\n",
    "    res = imblearn.over_sampling.RandomOverSampler(random_state=6)  # Initialize oversampler\n",
    "    df_res, euid = res.fit_resample(df, df['uid'].values)  # Apply oversampling\n",
    "    df_res = pd.DataFrame(df_res, columns=df.columns)  # Convert to DataFrame\n",
    "    df_res = df_res.sample(frac=1).reset_index(drop=True)  # Shuffle rows\n",
    "    df_res['Label'] = df_res['Label'].astype(float)  # Convert label to float\n",
    "    return df_res  # Return resampled DataFrame\n",
    "\n",
    "# Function to calculate and return model accuracy and fairness metrics for two groups\n",
    "def get_metrics(group_a, group_b, y_pred, y_true):\n",
    "    \"\"\"\n",
    "    Returns a DataFrame of model accuracy and fairness metrics for two groups.\n",
    "    \"\"\"\n",
    "    metrics = [['Model Accuracy', round(accuracy_score(y_true, y_pred), 2), 1]]  # Calculate accuracy\n",
    "    metrics += [['Black vs. White Disparate Impact', round(disparate_impact(group_a, group_b, y_pred), 2), 1]]  # Calculate disparate impact\n",
    "    metrics += [['Black vs. White Statistical Parity', round(statistical_parity(group_a, group_b, y_pred), 2), 0]]  # Calculate statistical parity\n",
    "    metrics += [['Black vs. White Average Odds Difference', round(average_odds_diff(group_a, group_b, y_pred, y_true), 2), 0]]  # Calculate average odds difference\n",
    "    return pd.DataFrame(metrics, columns=['Metric', 'Value', 'Reference'])  # Return metrics as DataFrame"
   ]
  },
  {
   "cell_type": "code",
   "execution_count": 3,
   "metadata": {
    "colab": {
     "base_uri": "https://localhost:8080/",
     "height": 600
    },
    "id": "33Vh_0hY6YUw",
    "outputId": "0bea7c51-30a2-47f5-aeef-a6a88a2b3e2a"
   },
   "outputs": [
    {
     "name": "stdout",
     "output_type": "stream",
     "text": [
      "/opt/conda/lib/python3.10/site-packages/gdown/__main__.py:140: FutureWarning: Option `--id` was deprecated in version 4.3.1 and will be removed in 5.0. You don't need to pass it anymore to use a file ID.\n",
      "  warnings.warn(\n",
      "Downloading...\n",
      "From (original): https://drive.google.com/uc?id=1pkGhrZL_cEde9CaLspu-yO9CKxsUd7e5\n",
      "From (redirected): https://drive.google.com/uc?id=1pkGhrZL_cEde9CaLspu-yO9CKxsUd7e5&confirm=t&uuid=9d8beb60-468f-400c-a4f9-5bb575c51cf6\n",
      "To: /home/acelepija/aipc-model/experimentations/trustworthiness/fairness/holisticAI/data.pickle\n",
      "100%|█████████████████████████████████████████| 128M/128M [00:00<00:00, 152MB/s]\n"
     ]
    }
   ],
   "source": [
    "# download data file from public link and place it in content/ folder\n",
    "!gdown --id 1pkGhrZL_cEde9CaLspu-yO9CKxsUd7e5"
   ]
  },
  {
   "cell_type": "code",
   "execution_count": 4,
   "metadata": {
    "colab": {
     "base_uri": "https://localhost:8080/",
     "height": 600
    },
    "id": "33Vh_0hY6YUw",
    "outputId": "0bea7c51-30a2-47f5-aeef-a6a88a2b3e2a"
   },
   "outputs": [
    {
     "data": {
      "text/html": [
       "<div>\n",
       "<style scoped>\n",
       "    .dataframe tbody tr th:only-of-type {\n",
       "        vertical-align: middle;\n",
       "    }\n",
       "\n",
       "    .dataframe tbody tr th {\n",
       "        vertical-align: top;\n",
       "    }\n",
       "\n",
       "    .dataframe thead th {\n",
       "        text-align: right;\n",
       "    }\n",
       "</style>\n",
       "<table border=\"1\" class=\"dataframe\">\n",
       "  <thead>\n",
       "    <tr style=\"text-align: right;\">\n",
       "      <th></th>\n",
       "      <th>Label</th>\n",
       "      <th>Gender</th>\n",
       "      <th>Ethnicity</th>\n",
       "      <th>0</th>\n",
       "      <th>1</th>\n",
       "      <th>2</th>\n",
       "      <th>3</th>\n",
       "      <th>4</th>\n",
       "      <th>5</th>\n",
       "      <th>6</th>\n",
       "      <th>...</th>\n",
       "      <th>490</th>\n",
       "      <th>491</th>\n",
       "      <th>492</th>\n",
       "      <th>493</th>\n",
       "      <th>494</th>\n",
       "      <th>495</th>\n",
       "      <th>496</th>\n",
       "      <th>497</th>\n",
       "      <th>498</th>\n",
       "      <th>499</th>\n",
       "    </tr>\n",
       "  </thead>\n",
       "  <tbody>\n",
       "    <tr>\n",
       "      <th>0</th>\n",
       "      <td>0</td>\n",
       "      <td>Female</td>\n",
       "      <td>White</td>\n",
       "      <td>28.021737</td>\n",
       "      <td>4.351153</td>\n",
       "      <td>2.453895</td>\n",
       "      <td>1.637143</td>\n",
       "      <td>-1.746628</td>\n",
       "      <td>-0.483463</td>\n",
       "      <td>0.034170</td>\n",
       "      <td>...</td>\n",
       "      <td>-0.557444</td>\n",
       "      <td>-0.015627</td>\n",
       "      <td>-0.052749</td>\n",
       "      <td>-0.234189</td>\n",
       "      <td>-0.072384</td>\n",
       "      <td>0.090403</td>\n",
       "      <td>0.376761</td>\n",
       "      <td>0.258914</td>\n",
       "      <td>-0.050558</td>\n",
       "      <td>0.014513</td>\n",
       "    </tr>\n",
       "    <tr>\n",
       "      <th>1</th>\n",
       "      <td>0</td>\n",
       "      <td>Female</td>\n",
       "      <td>White</td>\n",
       "      <td>29.603342</td>\n",
       "      <td>-3.407193</td>\n",
       "      <td>0.771800</td>\n",
       "      <td>-2.957411</td>\n",
       "      <td>0.599226</td>\n",
       "      <td>-2.805277</td>\n",
       "      <td>0.329414</td>\n",
       "      <td>...</td>\n",
       "      <td>-0.198440</td>\n",
       "      <td>-0.158843</td>\n",
       "      <td>0.191984</td>\n",
       "      <td>-0.004532</td>\n",
       "      <td>0.229210</td>\n",
       "      <td>-0.173042</td>\n",
       "      <td>-0.072871</td>\n",
       "      <td>0.442939</td>\n",
       "      <td>-0.054423</td>\n",
       "      <td>0.026959</td>\n",
       "    </tr>\n",
       "    <tr>\n",
       "      <th>2</th>\n",
       "      <td>1</td>\n",
       "      <td>Female</td>\n",
       "      <td>Hispanic</td>\n",
       "      <td>26.504283</td>\n",
       "      <td>0.642464</td>\n",
       "      <td>2.522944</td>\n",
       "      <td>-2.197094</td>\n",
       "      <td>2.270646</td>\n",
       "      <td>-0.472510</td>\n",
       "      <td>0.532815</td>\n",
       "      <td>...</td>\n",
       "      <td>0.423352</td>\n",
       "      <td>-0.033844</td>\n",
       "      <td>-0.125387</td>\n",
       "      <td>-0.483924</td>\n",
       "      <td>-0.116553</td>\n",
       "      <td>-0.113281</td>\n",
       "      <td>0.015519</td>\n",
       "      <td>0.017111</td>\n",
       "      <td>-0.012309</td>\n",
       "      <td>0.264572</td>\n",
       "    </tr>\n",
       "    <tr>\n",
       "      <th>3</th>\n",
       "      <td>0</td>\n",
       "      <td>Female</td>\n",
       "      <td>Hispanic</td>\n",
       "      <td>25.012088</td>\n",
       "      <td>0.895121</td>\n",
       "      <td>-2.092517</td>\n",
       "      <td>3.687830</td>\n",
       "      <td>0.539642</td>\n",
       "      <td>1.988930</td>\n",
       "      <td>1.121646</td>\n",
       "      <td>...</td>\n",
       "      <td>-0.280392</td>\n",
       "      <td>0.046582</td>\n",
       "      <td>0.116709</td>\n",
       "      <td>0.133876</td>\n",
       "      <td>0.072716</td>\n",
       "      <td>0.124083</td>\n",
       "      <td>0.213735</td>\n",
       "      <td>-0.149901</td>\n",
       "      <td>-0.217130</td>\n",
       "      <td>0.004403</td>\n",
       "    </tr>\n",
       "    <tr>\n",
       "      <th>4</th>\n",
       "      <td>1</td>\n",
       "      <td>Male</td>\n",
       "      <td>Hispanic</td>\n",
       "      <td>27.358934</td>\n",
       "      <td>-2.332423</td>\n",
       "      <td>0.154999</td>\n",
       "      <td>-2.623793</td>\n",
       "      <td>1.682456</td>\n",
       "      <td>1.262280</td>\n",
       "      <td>-1.685565</td>\n",
       "      <td>...</td>\n",
       "      <td>-0.019350</td>\n",
       "      <td>-0.093371</td>\n",
       "      <td>0.003443</td>\n",
       "      <td>-0.025467</td>\n",
       "      <td>0.155397</td>\n",
       "      <td>-0.067609</td>\n",
       "      <td>-0.084833</td>\n",
       "      <td>0.033429</td>\n",
       "      <td>-0.199198</td>\n",
       "      <td>0.229629</td>\n",
       "    </tr>\n",
       "    <tr>\n",
       "      <th>...</th>\n",
       "      <td>...</td>\n",
       "      <td>...</td>\n",
       "      <td>...</td>\n",
       "      <td>...</td>\n",
       "      <td>...</td>\n",
       "      <td>...</td>\n",
       "      <td>...</td>\n",
       "      <td>...</td>\n",
       "      <td>...</td>\n",
       "      <td>...</td>\n",
       "      <td>...</td>\n",
       "      <td>...</td>\n",
       "      <td>...</td>\n",
       "      <td>...</td>\n",
       "      <td>...</td>\n",
       "      <td>...</td>\n",
       "      <td>...</td>\n",
       "      <td>...</td>\n",
       "      <td>...</td>\n",
       "      <td>...</td>\n",
       "      <td>...</td>\n",
       "    </tr>\n",
       "    <tr>\n",
       "      <th>31765</th>\n",
       "      <td>1</td>\n",
       "      <td>Male</td>\n",
       "      <td>Hispanic</td>\n",
       "      <td>28.366808</td>\n",
       "      <td>3.697922</td>\n",
       "      <td>3.563571</td>\n",
       "      <td>-2.150857</td>\n",
       "      <td>-0.434302</td>\n",
       "      <td>0.678316</td>\n",
       "      <td>-2.203074</td>\n",
       "      <td>...</td>\n",
       "      <td>0.186987</td>\n",
       "      <td>0.400687</td>\n",
       "      <td>-0.008139</td>\n",
       "      <td>-0.341139</td>\n",
       "      <td>0.031173</td>\n",
       "      <td>0.235691</td>\n",
       "      <td>-0.466594</td>\n",
       "      <td>0.131910</td>\n",
       "      <td>-0.143816</td>\n",
       "      <td>-0.313901</td>\n",
       "    </tr>\n",
       "    <tr>\n",
       "      <th>31766</th>\n",
       "      <td>1</td>\n",
       "      <td>Female</td>\n",
       "      <td>Hispanic</td>\n",
       "      <td>27.366891</td>\n",
       "      <td>-1.487017</td>\n",
       "      <td>-3.040194</td>\n",
       "      <td>-0.231647</td>\n",
       "      <td>-0.557333</td>\n",
       "      <td>-1.919395</td>\n",
       "      <td>1.733025</td>\n",
       "      <td>...</td>\n",
       "      <td>-0.050665</td>\n",
       "      <td>-0.009511</td>\n",
       "      <td>0.283135</td>\n",
       "      <td>-0.110034</td>\n",
       "      <td>0.217001</td>\n",
       "      <td>-0.046090</td>\n",
       "      <td>0.027833</td>\n",
       "      <td>0.114989</td>\n",
       "      <td>-0.511371</td>\n",
       "      <td>0.065787</td>\n",
       "    </tr>\n",
       "    <tr>\n",
       "      <th>31768</th>\n",
       "      <td>0</td>\n",
       "      <td>Male</td>\n",
       "      <td>White</td>\n",
       "      <td>26.421217</td>\n",
       "      <td>2.768473</td>\n",
       "      <td>4.175005</td>\n",
       "      <td>-2.132873</td>\n",
       "      <td>-1.590674</td>\n",
       "      <td>2.238180</td>\n",
       "      <td>1.423327</td>\n",
       "      <td>...</td>\n",
       "      <td>-0.369076</td>\n",
       "      <td>0.211915</td>\n",
       "      <td>0.199298</td>\n",
       "      <td>0.027066</td>\n",
       "      <td>-0.487787</td>\n",
       "      <td>0.087942</td>\n",
       "      <td>-0.400830</td>\n",
       "      <td>0.201736</td>\n",
       "      <td>-0.289361</td>\n",
       "      <td>-0.148308</td>\n",
       "    </tr>\n",
       "    <tr>\n",
       "      <th>31769</th>\n",
       "      <td>1</td>\n",
       "      <td>Female</td>\n",
       "      <td>Hispanic</td>\n",
       "      <td>27.286430</td>\n",
       "      <td>5.486510</td>\n",
       "      <td>-2.384405</td>\n",
       "      <td>-0.535356</td>\n",
       "      <td>-1.621977</td>\n",
       "      <td>1.019637</td>\n",
       "      <td>1.298022</td>\n",
       "      <td>...</td>\n",
       "      <td>0.436849</td>\n",
       "      <td>-0.067007</td>\n",
       "      <td>-0.444001</td>\n",
       "      <td>-0.151817</td>\n",
       "      <td>0.133567</td>\n",
       "      <td>0.477831</td>\n",
       "      <td>0.539663</td>\n",
       "      <td>-0.252254</td>\n",
       "      <td>-0.073340</td>\n",
       "      <td>0.556241</td>\n",
       "    </tr>\n",
       "    <tr>\n",
       "      <th>31770</th>\n",
       "      <td>0</td>\n",
       "      <td>Male</td>\n",
       "      <td>Hispanic</td>\n",
       "      <td>25.530967</td>\n",
       "      <td>6.538253</td>\n",
       "      <td>-1.075398</td>\n",
       "      <td>-1.929167</td>\n",
       "      <td>1.148915</td>\n",
       "      <td>0.000216</td>\n",
       "      <td>0.797556</td>\n",
       "      <td>...</td>\n",
       "      <td>-0.546687</td>\n",
       "      <td>-0.078829</td>\n",
       "      <td>0.279742</td>\n",
       "      <td>0.198955</td>\n",
       "      <td>0.158868</td>\n",
       "      <td>0.426250</td>\n",
       "      <td>0.588771</td>\n",
       "      <td>-0.347363</td>\n",
       "      <td>-0.248264</td>\n",
       "      <td>-0.107724</td>\n",
       "    </tr>\n",
       "  </tbody>\n",
       "</table>\n",
       "<p>27774 rows × 503 columns</p>\n",
       "</div>"
      ],
      "text/plain": [
       "       Label  Gender Ethnicity          0         1         2         3  \\\n",
       "0          0  Female     White  28.021737  4.351153  2.453895  1.637143   \n",
       "1          0  Female     White  29.603342 -3.407193  0.771800 -2.957411   \n",
       "2          1  Female  Hispanic  26.504283  0.642464  2.522944 -2.197094   \n",
       "3          0  Female  Hispanic  25.012088  0.895121 -2.092517  3.687830   \n",
       "4          1    Male  Hispanic  27.358934 -2.332423  0.154999 -2.623793   \n",
       "...      ...     ...       ...        ...       ...       ...       ...   \n",
       "31765      1    Male  Hispanic  28.366808  3.697922  3.563571 -2.150857   \n",
       "31766      1  Female  Hispanic  27.366891 -1.487017 -3.040194 -0.231647   \n",
       "31768      0    Male     White  26.421217  2.768473  4.175005 -2.132873   \n",
       "31769      1  Female  Hispanic  27.286430  5.486510 -2.384405 -0.535356   \n",
       "31770      0    Male  Hispanic  25.530967  6.538253 -1.075398 -1.929167   \n",
       "\n",
       "              4         5         6  ...       490       491       492  \\\n",
       "0     -1.746628 -0.483463  0.034170  ... -0.557444 -0.015627 -0.052749   \n",
       "1      0.599226 -2.805277  0.329414  ... -0.198440 -0.158843  0.191984   \n",
       "2      2.270646 -0.472510  0.532815  ...  0.423352 -0.033844 -0.125387   \n",
       "3      0.539642  1.988930  1.121646  ... -0.280392  0.046582  0.116709   \n",
       "4      1.682456  1.262280 -1.685565  ... -0.019350 -0.093371  0.003443   \n",
       "...         ...       ...       ...  ...       ...       ...       ...   \n",
       "31765 -0.434302  0.678316 -2.203074  ...  0.186987  0.400687 -0.008139   \n",
       "31766 -0.557333 -1.919395  1.733025  ... -0.050665 -0.009511  0.283135   \n",
       "31768 -1.590674  2.238180  1.423327  ... -0.369076  0.211915  0.199298   \n",
       "31769 -1.621977  1.019637  1.298022  ...  0.436849 -0.067007 -0.444001   \n",
       "31770  1.148915  0.000216  0.797556  ... -0.546687 -0.078829  0.279742   \n",
       "\n",
       "            493       494       495       496       497       498       499  \n",
       "0     -0.234189 -0.072384  0.090403  0.376761  0.258914 -0.050558  0.014513  \n",
       "1     -0.004532  0.229210 -0.173042 -0.072871  0.442939 -0.054423  0.026959  \n",
       "2     -0.483924 -0.116553 -0.113281  0.015519  0.017111 -0.012309  0.264572  \n",
       "3      0.133876  0.072716  0.124083  0.213735 -0.149901 -0.217130  0.004403  \n",
       "4     -0.025467  0.155397 -0.067609 -0.084833  0.033429 -0.199198  0.229629  \n",
       "...         ...       ...       ...       ...       ...       ...       ...  \n",
       "31765 -0.341139  0.031173  0.235691 -0.466594  0.131910 -0.143816 -0.313901  \n",
       "31766 -0.110034  0.217001 -0.046090  0.027833  0.114989 -0.511371  0.065787  \n",
       "31768  0.027066 -0.487787  0.087942 -0.400830  0.201736 -0.289361 -0.148308  \n",
       "31769 -0.151817  0.133567  0.477831  0.539663 -0.252254 -0.073340  0.556241  \n",
       "31770  0.198955  0.158868  0.426250  0.588771 -0.347363 -0.248264 -0.107724  \n",
       "\n",
       "[27774 rows x 503 columns]"
      ]
     },
     "execution_count": 4,
     "metadata": {},
     "output_type": "execute_result"
    }
   ],
   "source": [
    "# load data and remove all NaN values\n",
    "with open('data.pickle', 'rb') as handle:\n",
    "      raw_data = pickle.load(handle)\n",
    "data = raw_data.dropna()\n",
    "data = data.rename(columns={i:str(i) for i in range(500)})\n",
    "\n",
    "data"
   ]
  },
  {
   "cell_type": "markdown",
   "metadata": {
    "id": "TRB2XSO1Jk88"
   },
   "source": [
    "### **2. Train the Model**"
   ]
  },
  {
   "cell_type": "code",
   "execution_count": 5,
   "metadata": {
    "colab": {
     "base_uri": "https://localhost:8080/"
    },
    "id": "KdVmJBS76mqr",
    "outputId": "e76d5033-d0ce-4de9-d940-b36f49d0eab1"
   },
   "outputs": [
    {
     "name": "stdout",
     "output_type": "stream",
     "text": [
      "Accuracy = 0.71\n"
     ]
    }
   ],
   "source": [
    "# Split the data into training and testing sets (70% training, 30% testing)\n",
    "data_train, data_test = train_test_split(data, test_size=0.3, random_state=4)\n",
    "\n",
    "# Get the feature matrix (X), target labels (y), and demographic data for both sets\n",
    "X_train, y_train, dem_train = split_data_from_df(data_train)\n",
    "X_test, y_test, dem_test = split_data_from_df(data_test)\n",
    "\n",
    "# Define the model (RidgeClassifier) and train it on the training data\n",
    "model = RidgeClassifier(random_state=42)\n",
    "model.fit(X_train, y_train)\n",
    "\n",
    "# Make predictions on the test set\n",
    "y_pred_test = model.predict(X_test)\n",
    "\n",
    "# Calculate and print the accuracy of the model on the test set\n",
    "acc = accuracy_score(y_test, y_pred_test)\n",
    "print(\"Accuracy = %.2f\" % acc)\n",
    "\n",
    "# Add the model's predictions to the data_test DataFrame for easier analysis\n",
    "data_test = data_test.copy()\n",
    "data_test['Pred'] = y_pred_test\n"
   ]
  },
  {
   "cell_type": "markdown",
   "metadata": {
    "id": "XGOeb8FwJ5pM"
   },
   "source": [
    "### **3. Evaluate Performance Metrics for Each Demographic Group**"
   ]
  },
  {
   "cell_type": "markdown",
   "metadata": {
    "id": "UepzPMNGRfAO"
   },
   "source": [
    "#### **3.1 Accuracy**"
   ]
  },
  {
   "cell_type": "code",
   "execution_count": 6,
   "metadata": {
    "colab": {
     "base_uri": "https://localhost:8080/"
    },
    "id": "JW37ihBh6zBC",
    "outputId": "bd1b6bd0-872e-4627-eb5e-fb75055c6cb3"
   },
   "outputs": [
    {
     "name": "stdout",
     "output_type": "stream",
     "text": [
      "---- ACCURACY BY GENDER ----\n",
      "Female Accuracy = 0.714\n",
      "Male Accuracy = 0.713\n",
      "\n",
      "---- ACCURACY BY ETHNICITY ----\n",
      "Black Accuracy = 0.704\n",
      "Asian Accuracy = 0.732\n",
      "White Accuracy = 0.705\n",
      "Hispanic Accuracy = 0.719\n"
     ]
    }
   ],
   "source": [
    "print(\"---- ACCURACY BY GENDER ----\")\n",
    "\n",
    "# Calculate accuracy for each gender group\n",
    "dem_test = dem_test.reset_index(drop=True)\n",
    "for group in dem_test['Gender'].unique():\n",
    "    # Get the indices of the samples belonging to the current group\n",
    "    idx_group = dem_test[dem_test['Gender'] == group].index\n",
    "\n",
    "    # Calculate the accuracy for the current group\n",
    "    acc = accuracy_score(y_test[idx_group], y_pred_test[idx_group])\n",
    "    print(group, 'Accuracy = %.3f' % acc)\n",
    "\n",
    "print()\n",
    "\n",
    "print(\"---- ACCURACY BY ETHNICITY ----\")\n",
    "# Calculate accuracy for each ethnicity group\n",
    "for group in dem_test['Ethnicity'].unique():\n",
    "    # Get the indices of the samples belonging to the current group\n",
    "    idx_group = dem_test[dem_test['Ethnicity'] == group].index\n",
    "\n",
    "    # Calculate the accuracy for the current group\n",
    "    acc = accuracy_score(y_test[idx_group], y_pred_test[idx_group])\n",
    "    print(group, 'Accuracy = %.3f' % acc)\n"
   ]
  },
  {
   "cell_type": "markdown",
   "metadata": {
    "id": "UtTOdBOVRiAc"
   },
   "source": [
    "#### **3.2 Success Rate**"
   ]
  },
  {
   "cell_type": "markdown",
   "metadata": {
    "id": "bbKYZ_lLKZme"
   },
   "source": [
    "The success rate $ SR $ for a given group is calculated as the proportion of candidates in that group who received a prediction of **1** from the model. Mathematically, it can be expressed as:\n",
    "\n",
    "$$\n",
    "SR_{g} = \\frac{\\sum_{i=1}^{n} \\mathbb{1}(\\hat{y_i} = 1)}{n}\n",
    "$$\n",
    "\n",
    "where:  \n",
    "- $n$ is the total number of candidates in group $g$ .  \n",
    "- $\\hat{y_i}$ represents the model's prediction for the $i$-th candidate.  \n",
    "- $\\mathbb{1}(\\hat{y}_i = 1) $ is an indicator function that equals 1 if the model predicts 1 and 0 otherwise.  \n",
    "\n"
   ]
  },
  {
   "cell_type": "code",
   "execution_count": 7,
   "metadata": {
    "colab": {
     "base_uri": "https://localhost:8080/"
    },
    "id": "ByCEloWs68FG",
    "outputId": "83e304ff-2876-4f91-f504-47a0bb4afdfb"
   },
   "outputs": [
    {
     "name": "stdout",
     "output_type": "stream",
     "text": [
      "---- SUCCESS RATE BY GENDER----\n",
      "Female = 0.305\n",
      "Male = 0.331\n",
      "\n",
      "---- SUCCESS RATE BY ETHNICITY----\n",
      "Asian = 0.284\n",
      "Black = 0.266\n",
      "Hispanic = 0.321\n",
      "White = 0.354\n"
     ]
    }
   ],
   "source": [
    "# Calculate the success rate for each gender group\n",
    "sr_male = y_pred_test[data_test['Gender'] == 'Male'].mean()\n",
    "sr_female = y_pred_test[data_test['Gender'] == 'Female'].mean()\n",
    "pred_g_mean = data_test.groupby('Gender')['Pred'].mean()\n",
    "\n",
    "print(\"---- SUCCESS RATE BY GENDER----\")\n",
    "for g in pred_g_mean.index:\n",
    "    print(g, '= %.3f' % pred_g_mean[g])\n",
    "print()\n",
    "\n",
    "# Calculate the success rate for each ethnicity group\n",
    "sr_white = y_pred_test[data_test['Ethnicity'] == 'White'].mean()\n",
    "sr_black = y_pred_test[data_test['Ethnicity'] == 'Black'].mean()\n",
    "sr_hispanic = y_pred_test[data_test['Ethnicity'] == 'Hispanic'].mean()\n",
    "sr_asian = y_pred_test[data_test['Ethnicity'] == 'Asian'].mean()\n",
    "pred_e_mean = data_test.groupby('Ethnicity')['Pred'].mean()\n",
    "\n",
    "\n",
    "print(\"---- SUCCESS RATE BY ETHNICITY----\")\n",
    "for e in pred_e_mean.index:\n",
    "    print(e, '= %.3f' % pred_e_mean[e])\n",
    "\n"
   ]
  },
  {
   "cell_type": "markdown",
   "metadata": {
    "id": "STwTkNkDLx_y"
   },
   "source": [
    "### **4. Evaluate Equality of Outcome Metrics**"
   ]
  },
  {
   "cell_type": "markdown",
   "metadata": {
    "id": "9oSCTePsRpsl"
   },
   "source": [
    "#### **4.1 Statistical Parity**\n",
    "***Statistical Parity***. The difference between the success rate of the minority group and the majority group:\n",
    "$$\n",
    "SP = SR_{a} - SR_{b}\n",
    "$$\n",
    "where:  \n",
    "- $SR_g$ is the success rate for group $g$, defined as the proportion of candidates that received a prediction of 1 from the model.  \n",
    "\n",
    "A value between $-0.1$ and $0.1$ is generally considered fair, with stricter bounds of $-0.05$ and $0.05$ used in some contexts."
   ]
  },
  {
   "cell_type": "code",
   "execution_count": 8,
   "metadata": {
    "colab": {
     "base_uri": "https://localhost:8080/",
     "height": 673
    },
    "id": "6_uzz9cEKM7i",
    "outputId": "c31c25c0-ee84-432a-8e10-67eeb132682c"
   },
   "outputs": [
    {
     "name": "stdout",
     "output_type": "stream",
     "text": [
      "---- STATISTICAL PARITY ----\n",
      "Female vs. Male = -0.03\n",
      "Black vs. White = -0.09\n",
      "Asian vs. White = -0.07\n",
      "Hispanic vs. White = -0.03\n",
      "\n"
     ]
    },
    {
     "data": {
      "image/png": "[encoded data removed]",
      "text/plain": [
       "<Figure size 800x600 with 1 Axes>"
      ]
     },
     "metadata": {},
     "output_type": "display_data"
    }
   ],
   "source": [
    "# STATISTICAL PARITY\n",
    "# Calculate the difference in success rate between different gender and ethnicity groups\n",
    "sp_fm = sr_female - sr_male  # Female vs. Male\n",
    "sp_bw = sr_black - sr_white  # Black vs. White\n",
    "sp_aw = sr_asian - sr_white  # Asian vs. White\n",
    "sp_hw = sr_hispanic - sr_white  # Hispanic vs. White\n",
    "\n",
    "# Print Statistical Parity values\n",
    "print('---- STATISTICAL PARITY ----')\n",
    "print('Female vs. Male = %.2f' % sp_fm)\n",
    "print('Black vs. White = %.2f' % sp_bw)\n",
    "print('Asian vs. White = %.2f' % sp_aw)\n",
    "print('Hispanic vs. White = %.2f' % sp_hw)\n",
    "print()\n",
    "\n",
    "\n",
    "# Plot Statistical Parity\n",
    "df = pd.DataFrame(\n",
    "    zip(['Female', 'Black', 'Asian', 'Hispanic'], [sp_fm, sp_bw, sp_aw, sp_hw]),\n",
    "    columns=['Group', 'Statistical Parity (SP)']\n",
    ")\n",
    "\n",
    "\n",
    "sns.set_style(\"whitegrid\")\n",
    "plt.figure(figsize=(8, 6))\n",
    "ax = sns.barplot(x='Group', y='Statistical Parity (SP)', data=df, palette=\"viridis\", hue='Group', legend=False)\n",
    "plt.axhline(y=-0.1, linewidth=2, color='r', linestyle=\"--\")  # Threshold for fairness (lower bound)\n",
    "plt.axhline(y=0.1, linewidth=2, color='r', linestyle=\"--\")   # Threshold for fairness (upper bound)\n",
    "plt.axhline(y=0, linewidth=2, color='g', linestyle=\"-\")      # Line representing 0 (no disparity)\n",
    "plt.title(\"Statistical Parity by Group\", fontsize=14)\n",
    "plt.xlabel(\"Group\", fontsize=12)\n",
    "plt.ylabel(\"Statistical Parity\", fontsize=12)\n",
    "plt.show()\n",
    "\n"
   ]
  },
  {
   "cell_type": "markdown",
   "metadata": {
    "id": "mGnNCfX4R0zf"
   },
   "source": [
    "#### **4.2 Disparate Impact**\n",
    "***Disparate Impact***. The ratio of the success rate of the minority group:\n",
    "$$\n",
    "DI = \\frac{SR_{a}}{SR_{b}}\n",
    "$$\n",
    "\n",
    "Fairness is often considered achieved for values between $0.8$ and $1.2$."
   ]
  },
  {
   "cell_type": "code",
   "execution_count": 9,
   "metadata": {
    "colab": {
     "base_uri": "https://localhost:8080/",
     "height": 656
    },
    "id": "JMqPwTfsR2Vs",
    "outputId": "b99c0ce9-3b6b-415f-c142-0f4b37fcc442"
   },
   "outputs": [
    {
     "name": "stdout",
     "output_type": "stream",
     "text": [
      "---- DISPARATE IMPACT ----\n",
      "Female vs. Male = 0.92\n",
      "Black vs. White = 0.75\n",
      "Asian vs. White = 0.80\n",
      "Hispanic vs. White = 0.90\n"
     ]
    },
    {
     "data": {
      "image/png": "[encoded data removed]",
      "text/plain": [
       "<Figure size 800x600 with 1 Axes>"
      ]
     },
     "metadata": {},
     "output_type": "display_data"
    }
   ],
   "source": [
    "# DISPARATE IMPACT\n",
    "# Calculate the ratio of success rates between different gender and ethnicity groups\n",
    "di_fm = sr_female / sr_male  # Female vs. Male\n",
    "di_bw = sr_black / sr_white  # Black vs. White\n",
    "di_aw = sr_asian / sr_white  # Asian vs. White\n",
    "di_hw = sr_hispanic / sr_white  # Hispanic vs. White\n",
    "\n",
    "# Print Disparate Impact values\n",
    "print('---- DISPARATE IMPACT ----')\n",
    "print('Female vs. Male = %.2f' % di_fm)\n",
    "print('Black vs. White = %.2f' % di_bw)\n",
    "print('Asian vs. White = %.2f' % di_aw)\n",
    "print('Hispanic vs. White = %.2f' % di_hw)\n",
    "\n",
    "# Prepare Data for Plotting\n",
    "# Create a DataFrame with the calculated Statistical Parity and Disparate Impact values for each group\n",
    "df = pd.DataFrame(\n",
    "    zip(['Female', 'Black', 'Asian', 'Hispanic'], [di_fm, di_bw, di_aw, di_hw]),\n",
    "    columns=['Group', 'Disparate Impact (DI)']\n",
    ")\n",
    "\n",
    "# Plot Disparate Impact\n",
    "sns.set_style(\"whitegrid\")\n",
    "plt.figure(figsize=(8, 6))\n",
    "ax = sns.barplot(x='Group', y='Disparate Impact (DI)', data=df, palette=\"viridis\", hue='Group', legend=False)\n",
    "plt.axhline(y=0.8, linewidth=2, color='r', linestyle=\"--\")   # Lower threshold for fairness\n",
    "plt.axhline(y=1.2, linewidth=2, color='r', linestyle=\"--\")   # Upper threshold for fairness\n",
    "plt.axhline(y=1, linewidth=2, color='g', linestyle=\"-\")      # Line representing 1 (ideal fairness)\n",
    "plt.title(\"Disparate Impact by Group\", fontsize=14)\n",
    "plt.xlabel(\"Group\", fontsize=12)\n",
    "plt.ylabel(\"Disparate Impact\", fontsize=12)\n",
    "plt.show()\n"
   ]
  },
  {
   "cell_type": "markdown",
   "metadata": {
    "id": "rKjlPO-4RIzG"
   },
   "source": [
    "### **5. Evaluate Equality of Opporutinity Metric**"
   ]
  },
  {
   "cell_type": "markdown",
   "metadata": {
    "id": "pMI18ny1Mm0D"
   },
   "source": [
    "### **5.1 Plot Confusion Matrices**"
   ]
  },
  {
   "cell_type": "code",
   "execution_count": 10,
   "metadata": {
    "colab": {
     "base_uri": "https://localhost:8080/",
     "height": 706
    },
    "id": "UYgRfpBB9LYs",
    "outputId": "033cf3b3-aa72-42f0-b655-2be2322661f2"
   },
   "outputs": [
    {
     "data": {
      "image/png": "[encoded data removed]",
      "text/plain": [
       "<Figure size 1500x400 with 3 Axes>"
      ]
     },
     "metadata": {},
     "output_type": "display_data"
    },
    {
     "data": {
      "image/png": "[encoded data removed]",
      "text/plain": [
       "<Figure size 2500x400 with 5 Axes>"
      ]
     },
     "metadata": {},
     "output_type": "display_data"
    }
   ],
   "source": [
    "# Plot for Gender\n",
    "cms_gender = plot_confusion_matrices(\n",
    "    groups=data[\"Gender\"].unique(),\n",
    "    data_test=data_test,\n",
    "    category=\"Gender\",\n",
    "    y_test=y_test,\n",
    "    y_pred_test=y_pred_test\n",
    ")\n",
    "\n",
    "# Plot for Ethnicity\n",
    "cms_ethnicity = plot_confusion_matrices(\n",
    "    groups=data[\"Ethnicity\"].unique(),\n",
    "    data_test=data_test,\n",
    "    category=\"Ethnicity\",\n",
    "    y_test=y_test,\n",
    "    y_pred_test=y_pred_test\n",
    ")\n"
   ]
  },
  {
   "cell_type": "markdown",
   "metadata": {
    "id": "vzWzNNfINY7z"
   },
   "source": [
    "### **5.2 Evaluate True Positive Rate and Equal Opporutinity Difference**"
   ]
  },
  {
   "cell_type": "markdown",
   "metadata": {
    "id": "7OCPrioWOCaf"
   },
   "source": [
    "***True Positive Rate (TPR)***. The proportion of actual positive cases correctly predicted by the model within each group. It is calculated as:\n",
    "\n",
    "$$\n",
    "TPR_{g} = \\frac{TP}{TP + FN}\n",
    "$$\n",
    "\n",
    "where:  \n",
    "- $TP$ is the number of true positives in group $g$.  \n",
    "- $FN$ is the number of false negatives in group $g$.  \n",
    "\n"
   ]
  },
  {
   "cell_type": "markdown",
   "metadata": {
    "id": "c-9CqhhYPRu4"
   },
   "source": [
    "***Equal Opportunity Difference***. The difference in TPR between two groups. It is calculated as:\n",
    "\n",
    "$$\n",
    "EOD = TPR_{a} - TPR_{b}\n",
    "$$\n",
    "\n",
    "A value between -0.1 and 0.1 is generally considered fair, with stricter bounds of -0.05 and 0.05 used in some contexts."
   ]
  },
  {
   "cell_type": "code",
   "execution_count": 11,
   "metadata": {
    "colab": {
     "base_uri": "https://localhost:8080/",
     "height": 795
    },
    "id": "wTbU_tnL9JLZ",
    "outputId": "7a87a4f2-8aae-4043-b9f7-e40a06e6e117"
   },
   "outputs": [
    {
     "name": "stdout",
     "output_type": "stream",
     "text": [
      "--- True Positive Rate (TPR) ---\n",
      "Female = 0.524\n",
      "Male = 0.558\n",
      "Asian = 0.522\n",
      "Black = 0.461\n",
      "Hispanic = 0.555\n",
      "White = 0.572\n",
      "\n",
      "--- Equal Opportunity Difference (EOD) ---\n",
      "Female vs. Male = -0.03\n",
      "Black vs. White = -0.11\n",
      "Asian vs. White = -0.05\n",
      "Hispanic vs. White = -0.02\n"
     ]
    },
    {
     "data": {
      "image/png": "[encoded data removed]",
      "text/plain": [
       "<Figure size 800x600 with 1 Axes>"
      ]
     },
     "metadata": {},
     "output_type": "display_data"
    }
   ],
   "source": [
    "# Calculate True Positive Rate (TPR) for gender and ethnicity\n",
    "TPRs_gender = calculate_tpr(cms_gender)\n",
    "TPRs_ethnicity = calculate_tpr(cms_ethnicity)\n",
    "\n",
    "print(\"--- True Positive Rate (TPR) ---\")\n",
    "for g in pred_g_mean.index:\n",
    "    print(g, '= %.3f' % TPRs_gender[g])\n",
    "for e in pred_e_mean.index:\n",
    "    print(e, '= %.3f' % TPRs_ethnicity[e])\n",
    "print()\n",
    "\n",
    "# Calculate Equal Opportunity Difference (EOD)\n",
    "eod_fm = TPRs_gender['Female'] - TPRs_gender['Male']  # Female vs. Male\n",
    "eod_bw = TPRs_ethnicity['Black'] - TPRs_ethnicity['White']  # Black vs. White\n",
    "eod_aw = TPRs_ethnicity['Asian'] - TPRs_ethnicity['White']  # Asian vs. White\n",
    "eod_hw = TPRs_ethnicity['Hispanic'] - TPRs_ethnicity['White']  # Hispanic vs. White\n",
    "\n",
    "print(\"--- Equal Opportunity Difference (EOD) ---\")\n",
    "print(f\"Female vs. Male = {eod_fm:.2f}\")\n",
    "print(f\"Black vs. White = {eod_bw:.2f}\")\n",
    "print(f\"Asian vs. White = {eod_aw:.2f}\")\n",
    "print(f\"Hispanic vs. White = {eod_hw:.2f}\")\n",
    "\n",
    "eod_data = pd.DataFrame({\n",
    "    'Group': ['Female', 'Black', 'Asian', 'Hispanic'],\n",
    "    'EOD': [eod_fm, eod_bw, eod_aw, eod_hw]\n",
    "})\n",
    "\n",
    "# Plot Equal Opportunity Difference (EOD)\n",
    "plt.figure(figsize=(8, 6))\n",
    "ax = sns.barplot(x='Group', y='EOD', data=eod_data, palette=\"viridis\", hue='Group', legend=False)\n",
    "plt.axhline(y=-0.1, linewidth=2, color='r', linestyle=\"--\")  # Threshold for fairness (lower bound)\n",
    "plt.axhline(y=0.1, linewidth=2, color='r', linestyle=\"--\")   # Threshold for fairness (upper bound)\n",
    "plt.axhline(y=0, linewidth=2, color='g', linestyle=\"-\")      # Line representing 0 (ideal fairness)\n",
    "plt.title(\"Equal Opportunity Difference by Group\", fontsize=14)\n",
    "plt.xlabel(\"Group\", fontsize=12)\n",
    "plt.ylabel(\"EOD\", fontsize=12)\n",
    "plt.show()\n"
   ]
  },
  {
   "cell_type": "markdown",
   "metadata": {
    "id": "26KDmLVRQAKP"
   },
   "source": [
    "### **6. Mitigate Bias Against Black Candidates**"
   ]
  },
  {
   "cell_type": "code",
   "execution_count": 12,
   "metadata": {
    "colab": {
     "base_uri": "https://localhost:8080/",
     "height": 192
    },
    "id": "7_KSksW1Igpk",
    "outputId": "89ffbfe9-1e65-4c2e-8a45-903fb1720cbe"
   },
   "outputs": [
    {
     "name": "stdout",
     "output_type": "stream",
     "text": [
      "Model Accuracy: 70.37%\n"
     ]
    },
    {
     "data": {
      "text/html": [
       "<div>\n",
       "<style scoped>\n",
       "    .dataframe tbody tr th:only-of-type {\n",
       "        vertical-align: middle;\n",
       "    }\n",
       "\n",
       "    .dataframe tbody tr th {\n",
       "        vertical-align: top;\n",
       "    }\n",
       "\n",
       "    .dataframe thead th {\n",
       "        text-align: right;\n",
       "    }\n",
       "</style>\n",
       "<table border=\"1\" class=\"dataframe\">\n",
       "  <thead>\n",
       "    <tr style=\"text-align: right;\">\n",
       "      <th></th>\n",
       "      <th>Metric</th>\n",
       "      <th>Value</th>\n",
       "      <th>Reference</th>\n",
       "    </tr>\n",
       "  </thead>\n",
       "  <tbody>\n",
       "    <tr>\n",
       "      <th>0</th>\n",
       "      <td>Model Accuracy</td>\n",
       "      <td>0.70</td>\n",
       "      <td>1</td>\n",
       "    </tr>\n",
       "    <tr>\n",
       "      <th>1</th>\n",
       "      <td>Black vs. White Disparate Impact</td>\n",
       "      <td>0.77</td>\n",
       "      <td>1</td>\n",
       "    </tr>\n",
       "    <tr>\n",
       "      <th>2</th>\n",
       "      <td>Black vs. White Statistical Parity</td>\n",
       "      <td>-0.08</td>\n",
       "      <td>0</td>\n",
       "    </tr>\n",
       "    <tr>\n",
       "      <th>3</th>\n",
       "      <td>Black vs. White Average Odds Difference</td>\n",
       "      <td>-0.08</td>\n",
       "      <td>0</td>\n",
       "    </tr>\n",
       "  </tbody>\n",
       "</table>\n",
       "</div>"
      ],
      "text/plain": [
       "                                    Metric  Value  Reference\n",
       "0                           Model Accuracy   0.70          1\n",
       "1         Black vs. White Disparate Impact   0.77          1\n",
       "2       Black vs. White Statistical Parity  -0.08          0\n",
       "3  Black vs. White Average Odds Difference  -0.08          0"
      ]
     },
     "metadata": {},
     "output_type": "display_data"
    }
   ],
   "source": [
    "# Include only Black and White candidates for the analysis\n",
    "data = data[data['Ethnicity'].isin(['Black', 'White'])].copy()\n",
    "\n",
    "# Split data into training & testing sets\n",
    "data_train, data_test = train_test_split(data, test_size=0.3, random_state=4)\n",
    "\n",
    "# Extract features (X), labels (y), and demographics from the split datasets\n",
    "X_train, y_train, dem_train = split_data_from_df(data_train)\n",
    "X_test, y_test, dem_test = split_data_from_df(data_test)\n",
    "\n",
    "# Initialize & Train Ridge Classifier\n",
    "model = RidgeClassifier(random_state=42)\n",
    "model.fit(X_train, y_train)\n",
    "\n",
    "# Predict on test set & evaluate accuracy\n",
    "y_pred_test = model.predict(X_test)\n",
    "accuracy = accuracy_score(y_test, y_pred_test)\n",
    "\n",
    "print(f\"Model Accuracy: {accuracy:.2%}\")  # Outputs the accuracy in percentage form\n",
    "\n",
    "data_test = data_test.copy()\n",
    "data_test[\"Pred\"] = y_pred_test\n",
    "\n",
    "# Evaluate performance and bias metrics\n",
    "group_a_test = (dem_test['Ethnicity'] == 'Black')\n",
    "group_b_test = (dem_test['Ethnicity'] == 'White')\n",
    "metrics_orig = get_metrics(group_a_test, group_b_test, y_pred_test, y_test)\n",
    "\n",
    "display(metrics_orig)"
   ]
  },
  {
   "cell_type": "markdown",
   "metadata": {
    "id": "syNog1HRgBXS"
   },
   "source": [
    "#### **6.1 Pre-Processing: Reweighing**\n",
    "\n",
    "Reweighing (Kamiran and Calders, 2012) is a pre-processing technique that amends the dataset to achieve statistical parity. This method adjusts the weights of the samples in the dataset to compensate for imbalances between different groups. By applying appropriate weights to each instance, it ensures that the model is not biased towards any particular group, thereby promoting fairness. The goal is to adjust the influence of each group so that the final model satisfies fairness criteria such as statistical parity or disparate impact.\n"
   ]
  },
  {
   "cell_type": "code",
   "execution_count": 13,
   "metadata": {
    "colab": {
     "base_uri": "https://localhost:8080/",
     "height": 241
    },
    "id": "FU8xNA9IJ8y2",
    "outputId": "f400564a-b63b-447f-dd4f-fc4ad5e10d07"
   },
   "outputs": [
    {
     "data": {
      "text/plain": [
       "Label  Ethnicity\n",
       "0      Black        0.946843\n",
       "       White        1.027526\n",
       "1      Black        1.093878\n",
       "       White        0.960660\n",
       "Name: sample_weights, dtype: float32"
      ]
     },
     "metadata": {},
     "output_type": "display_data"
    }
   ],
   "source": [
    "from holisticai.bias.mitigation import Reweighing\n",
    "\n",
    "# Initialise and fit the Reweighing model to mitigate bias\n",
    "rew = Reweighing()\n",
    "\n",
    "# Define the groups (Black and White) in the training data based on the 'Ethnicity' column\n",
    "group_a_train = (dem_train['Ethnicity'] == 'Black')  # Group A: Black ethnicity\n",
    "group_b_train = (dem_train['Ethnicity'] == 'White')  # Group B: White ethnicity\n",
    "\n",
    "# Fit the reweighing technique to adjust sample weights\n",
    "rew.fit(y_train, group_a_train, group_b_train)\n",
    "\n",
    "# Extract the calculated sample weights from the reweighing model\n",
    "sample_weights = rew.estimator_params[\"sample_weight\"]\n",
    "\n",
    "data_train['sample_weights'] = sample_weights\n",
    "\n",
    "display(data_train.groupby(['Label', 'Ethnicity'])['sample_weights'].mean())\n"
   ]
  },
  {
   "cell_type": "code",
   "execution_count": 14,
   "metadata": {
    "colab": {
     "base_uri": "https://localhost:8080/",
     "height": 939
    },
    "id": "FCoB9JikKFkJ",
    "outputId": "68df91c6-daa5-48af-dfab-ef84e23f0684"
   },
   "outputs": [
    {
     "data": {
      "text/html": [
       "<div>\n",
       "<style scoped>\n",
       "    .dataframe tbody tr th:only-of-type {\n",
       "        vertical-align: middle;\n",
       "    }\n",
       "\n",
       "    .dataframe tbody tr th {\n",
       "        vertical-align: top;\n",
       "    }\n",
       "\n",
       "    .dataframe thead th {\n",
       "        text-align: right;\n",
       "    }\n",
       "</style>\n",
       "<table border=\"1\" class=\"dataframe\">\n",
       "  <thead>\n",
       "    <tr style=\"text-align: right;\">\n",
       "      <th></th>\n",
       "      <th>Metric</th>\n",
       "      <th>Value</th>\n",
       "      <th>Reference</th>\n",
       "    </tr>\n",
       "  </thead>\n",
       "  <tbody>\n",
       "    <tr>\n",
       "      <th>0</th>\n",
       "      <td>Model Accuracy</td>\n",
       "      <td>0.71</td>\n",
       "      <td>1</td>\n",
       "    </tr>\n",
       "    <tr>\n",
       "      <th>1</th>\n",
       "      <td>Black vs. White Disparate Impact</td>\n",
       "      <td>0.82</td>\n",
       "      <td>1</td>\n",
       "    </tr>\n",
       "    <tr>\n",
       "      <th>2</th>\n",
       "      <td>Black vs. White Statistical Parity</td>\n",
       "      <td>-0.06</td>\n",
       "      <td>0</td>\n",
       "    </tr>\n",
       "    <tr>\n",
       "      <th>3</th>\n",
       "      <td>Black vs. White Average Odds Difference</td>\n",
       "      <td>-0.06</td>\n",
       "      <td>0</td>\n",
       "    </tr>\n",
       "  </tbody>\n",
       "</table>\n",
       "</div>"
      ],
      "text/plain": [
       "                                    Metric  Value  Reference\n",
       "0                           Model Accuracy   0.71          1\n",
       "1         Black vs. White Disparate Impact   0.82          1\n",
       "2       Black vs. White Statistical Parity  -0.06          0\n",
       "3  Black vs. White Average Odds Difference  -0.06          0"
      ]
     },
     "metadata": {},
     "output_type": "display_data"
    },
    {
     "data": {
      "image/png": "[encoded data removed]",
      "text/plain": [
       "<Figure size 1000x600 with 1 Axes>"
      ]
     },
     "metadata": {},
     "output_type": "display_data"
    }
   ],
   "source": [
    "# Train the model using the sample weights calculated through reweighing\n",
    "model = RidgeClassifier(random_state=42)\n",
    "model.fit(X_train, y_train, sample_weight=sample_weights.ravel())  # Fit model with sample weights\n",
    "\n",
    "y_pred_test = model.predict(X_test)\n",
    "\n",
    "# Define the groupings for fairness analysis (Black and White) in the test set\n",
    "group_a_test = (dem_test['Ethnicity']=='Black')\n",
    "group_b_test = (dem_test['Ethnicity']=='White')\n",
    "\n",
    "# Get the fairness and accuracy metrics after applying reweighing\n",
    "metrics_rw = get_metrics(group_a_test, group_b_test, y_pred_test, y_test)\n",
    "display(metrics_rw)\n",
    "\n",
    "# Add a 'mitigation' column to both metrics dataframes to label them accordingly\n",
    "metrics_orig['mitigation'] = 'None'\n",
    "metrics_rw['mitigation'] = 'Reweighing'\n",
    "\n",
    "metrics = pd.concat([metrics_orig, metrics_rw], axis=0, ignore_index=True)\n",
    "\n",
    "# Plot the comparison of metrics between the original model and the model with reweighing\n",
    "plt.figure(figsize=(10, 6))\n",
    "sns.barplot(data=metrics, x='Metric', y='Value', hue='mitigation')\n",
    "plt.axhline(y=0.8, linewidth=2, color='r', linestyle=\"--\")\n",
    "plt.axhline(y=-0.05, linewidth=2, color='r', linestyle=\"--\")\n",
    "plt.axhline(y=1, linewidth=2, color='g')\n",
    "plt.axhline(y=0, linewidth=2, color='g')\n",
    "plt.xticks(rotation=45, ha='right', fontsize=12)\n",
    "plt.show()\n"
   ]
  },
  {
   "cell_type": "markdown",
   "metadata": {
    "id": "XWopnXtNhRdx"
   },
   "source": [
    "#### **6.2 In-Processing: Grid Search Reduction**\n",
    "\n",
    "Grid Search Reduction (Agarwal et al., 2018) is an in-processing fairness technique that systematically searches over a predefined set of trade-off parameters to balance accuracy and fairness. It trains multiple models using different weightings of fairness constraints, such as demographic parity or equalized odds, and selects the model that best satisfies the desired fairness-accuracy trade-off. While straightforward to implement, this method can be computationally expensive, especially when searching over a fine-grained grid of parameters. However, it provides a transparent and interpretable way to enforce fairness constraints in classification models.\n"
   ]
  },
  {
   "cell_type": "code",
   "execution_count": 15,
   "metadata": {
    "colab": {
     "base_uri": "https://localhost:8080/",
     "height": 1000
    },
    "id": "Fg04jeEsOF7z",
    "outputId": "54a6220e-8738-41b7-9343-1bff00fe955b"
   },
   "outputs": [
    {
     "name": "stderr",
     "output_type": "stream",
     "text": [
      "/opt/conda/lib/python3.10/site-packages/holisticai/bias/mitigation/inprocessing/commons/classification/_constraints.py:175: PerformanceWarning: indexing past lexsort depth may impact performance.\n",
      "  pos_basis.loc[(\"+\", event_val, group), i] = 1\n",
      "/opt/conda/lib/python3.10/site-packages/holisticai/bias/mitigation/inprocessing/commons/classification/_constraints.py:176: PerformanceWarning: indexing past lexsort depth may impact performance.\n",
      "  neg_basis.loc[(\"-\", event_val, group), i] = 1\n",
      "/opt/conda/lib/python3.10/site-packages/holisticai/bias/mitigation/inprocessing/commons/classification/_constraints.py:175: PerformanceWarning: indexing past lexsort depth may impact performance.\n",
      "  pos_basis.loc[(\"+\", event_val, group), i] = 1\n",
      "/opt/conda/lib/python3.10/site-packages/holisticai/bias/mitigation/inprocessing/commons/classification/_constraints.py:176: PerformanceWarning: indexing past lexsort depth may impact performance.\n",
      "  neg_basis.loc[(\"-\", event_val, group), i] = 1\n"
     ]
    },
    {
     "data": {
      "text/html": [
       "<div>\n",
       "<style scoped>\n",
       "    .dataframe tbody tr th:only-of-type {\n",
       "        vertical-align: middle;\n",
       "    }\n",
       "\n",
       "    .dataframe tbody tr th {\n",
       "        vertical-align: top;\n",
       "    }\n",
       "\n",
       "    .dataframe thead th {\n",
       "        text-align: right;\n",
       "    }\n",
       "</style>\n",
       "<table border=\"1\" class=\"dataframe\">\n",
       "  <thead>\n",
       "    <tr style=\"text-align: right;\">\n",
       "      <th></th>\n",
       "      <th>Metric</th>\n",
       "      <th>Value</th>\n",
       "      <th>Reference</th>\n",
       "    </tr>\n",
       "  </thead>\n",
       "  <tbody>\n",
       "    <tr>\n",
       "      <th>0</th>\n",
       "      <td>Model Accuracy</td>\n",
       "      <td>0.48</td>\n",
       "      <td>1</td>\n",
       "    </tr>\n",
       "    <tr>\n",
       "      <th>1</th>\n",
       "      <td>Black vs. White Disparate Impact</td>\n",
       "      <td>0.99</td>\n",
       "      <td>1</td>\n",
       "    </tr>\n",
       "    <tr>\n",
       "      <th>2</th>\n",
       "      <td>Black vs. White Statistical Parity</td>\n",
       "      <td>-0.01</td>\n",
       "      <td>0</td>\n",
       "    </tr>\n",
       "    <tr>\n",
       "      <th>3</th>\n",
       "      <td>Black vs. White Average Odds Difference</td>\n",
       "      <td>0.00</td>\n",
       "      <td>0</td>\n",
       "    </tr>\n",
       "  </tbody>\n",
       "</table>\n",
       "</div>"
      ],
      "text/plain": [
       "                                    Metric  Value  Reference\n",
       "0                           Model Accuracy   0.48          1\n",
       "1         Black vs. White Disparate Impact   0.99          1\n",
       "2       Black vs. White Statistical Parity  -0.01          0\n",
       "3  Black vs. White Average Odds Difference   0.00          0"
      ]
     },
     "metadata": {},
     "output_type": "display_data"
    },
    {
     "data": {
      "image/png": "[encoded data removed]",
      "text/plain": [
       "<Figure size 1000x600 with 1 Axes>"
      ]
     },
     "metadata": {},
     "output_type": "display_data"
    }
   ],
   "source": [
    "from holisticai.bias.mitigation import GridSearchReduction\n",
    "\n",
    "# Train the model using Grid Search Reduction (GSR) bias mitigation technique\n",
    "model = RidgeClassifier(random_state=42)\n",
    "\n",
    "gsr = GridSearchReduction()\n",
    "gsr.transform_estimator(model)\n",
    "\n",
    "# Define the groupings for fairness analysis (Black and White) in the training set\n",
    "group_a_train = (dem_train['Ethnicity'] == 'Black')  # Define Black group in training set\n",
    "group_b_train = (dem_train['Ethnicity'] == 'White')  # Define White group in training set\n",
    "\n",
    "# Fit GSR with the training data, labels, and group membership\n",
    "gsr.fit(X_train, y_train, group_a_train, group_b_train)\n",
    "\n",
    "y_pred_test = gsr.predict(X_test)\n",
    "\n",
    "# Define groupings for fairness analysis in the test set (Black and White)\n",
    "group_a_test = (dem_test['Ethnicity'] == 'Black')  # Define Black group in test set\n",
    "group_b_test = (dem_test['Ethnicity'] == 'White')  # Define White group in test set\n",
    "\n",
    "# Evaluate the fairness and accuracy metrics for the model with GSR mitigation applied\n",
    "metrics_gsr = get_metrics(group_a_test, group_b_test, y_pred_test, y_test)  # Get metrics after gsr\n",
    "\n",
    "display(metrics_gsr)\n",
    "\n",
    "metrics_orig['mitigation'] = 'None'  # Label for the original model (no mitigation)\n",
    "metrics_gsr['mitigation'] = 'Grid Search Reduction'  # Label for the GSR model\n",
    "\n",
    "metrics = pd.concat([metrics_orig, metrics_gsr], axis=0, ignore_index=True)\n",
    "\n",
    "# Plot the comparison of metrics between the original model and the model with Grid Search Reduction\n",
    "plt.figure(figsize=(10, 6))\n",
    "sns.barplot(data=metrics, x='Metric', y='Value', hue='mitigation')\n",
    "plt.axhline(y=0.8, linewidth=2, color='r', linestyle=\"--\")\n",
    "plt.axhline(y=-0.05, linewidth=2, color='r', linestyle=\"--\")\n",
    "plt.axhline(y=1, linewidth=2, color='g')\n",
    "plt.axhline(y=0, linewidth=2, color='g')\n",
    "plt.xticks(rotation=45, ha='right', fontsize=12)\n",
    "plt.show()"
   ]
  },
  {
   "cell_type": "markdown",
   "metadata": {
    "id": "t7QwKBYVitXx"
   },
   "source": [
    "#### **6.3 Post-Processing: Equalized Odds**\n",
    "\n",
    "Equalized Odds (Hardt et al., 2016) is a post-processing fairness technique that adjusts the model's predictions after training to ensure fairness across different groups. It aims to equalize the true positive rate (TPR) and false positive rate (FPR) between groups. By modifying the decision thresholds for different groups, Equalized Odds ensures that the model’s performance is equally favorable for all groups, regardless of their demographic characteristics. This method helps to correct any disparities in prediction outcomes that may have arisen during the training phase.\n"
   ]
  },
  {
   "cell_type": "code",
   "execution_count": 27,
   "metadata": {
    "id": "EG-lSlb8LuZF"
   },
   "outputs": [],
   "source": [
    "# Training a model and then treating it like a 'black-box'\n",
    "\n",
    "# Split Data into Training and Testing Sets\n",
    "data_train, data_test = train_test_split(data, test_size=0.3, random_state=4)  # Split into train/test sets\n",
    "X_train, y_train, dem_train = split_data_from_df(data_train)  # Extract features, labels, and demographics for the training set\n",
    "X_test, y_test, dem_test = split_data_from_df(data_test)  # Extract features, labels, and demographics for the test set\n",
    "\n",
    "# Initialize and Train Model\n",
    "model = RidgeClassifier(random_state=42)  # Initialize the RidgeClassifier model with a fixed random seed\n",
    "model.fit(X_train, y_train)  # Train the model using the training features and labels\n",
    "\n",
    "y_pred_test = model.predict(X_test)\n"
   ]
  },
  {
   "cell_type": "code",
   "execution_count": 28,
   "metadata": {
    "colab": {
     "base_uri": "https://localhost:8080/",
     "height": 939
    },
    "id": "nEt9TD1sLwFf",
    "outputId": "2cfb2d02-8760-4896-c00a-6707cac3170d"
   },
   "outputs": [
    {
     "data": {
      "text/html": [
       "<div>\n",
       "<style scoped>\n",
       "    .dataframe tbody tr th:only-of-type {\n",
       "        vertical-align: middle;\n",
       "    }\n",
       "\n",
       "    .dataframe tbody tr th {\n",
       "        vertical-align: top;\n",
       "    }\n",
       "\n",
       "    .dataframe thead th {\n",
       "        text-align: right;\n",
       "    }\n",
       "</style>\n",
       "<table border=\"1\" class=\"dataframe\">\n",
       "  <thead>\n",
       "    <tr style=\"text-align: right;\">\n",
       "      <th></th>\n",
       "      <th>Metric</th>\n",
       "      <th>Value</th>\n",
       "      <th>Reference</th>\n",
       "    </tr>\n",
       "  </thead>\n",
       "  <tbody>\n",
       "    <tr>\n",
       "      <th>0</th>\n",
       "      <td>Model Accuracy</td>\n",
       "      <td>0.71</td>\n",
       "      <td>1</td>\n",
       "    </tr>\n",
       "    <tr>\n",
       "      <th>1</th>\n",
       "      <td>Black vs. White Disparate Impact</td>\n",
       "      <td>0.94</td>\n",
       "      <td>1</td>\n",
       "    </tr>\n",
       "    <tr>\n",
       "      <th>2</th>\n",
       "      <td>Black vs. White Statistical Parity</td>\n",
       "      <td>-0.02</td>\n",
       "      <td>0</td>\n",
       "    </tr>\n",
       "    <tr>\n",
       "      <th>3</th>\n",
       "      <td>Black vs. White Average Odds Difference</td>\n",
       "      <td>0.01</td>\n",
       "      <td>0</td>\n",
       "    </tr>\n",
       "  </tbody>\n",
       "</table>\n",
       "</div>"
      ],
      "text/plain": [
       "                                    Metric  Value  Reference\n",
       "0                           Model Accuracy   0.71          1\n",
       "1         Black vs. White Disparate Impact   0.94          1\n",
       "2       Black vs. White Statistical Parity  -0.02          0\n",
       "3  Black vs. White Average Odds Difference   0.01          0"
      ]
     },
     "metadata": {},
     "output_type": "display_data"
    },
    {
     "data": {
      "image/png": "[encoded data removed]",
      "text/plain": [
       "<Figure size 1000x600 with 1 Axes>"
      ]
     },
     "metadata": {},
     "output_type": "display_data"
    }
   ],
   "source": [
    "from holisticai.bias.mitigation import EqualizedOdds\n",
    "# Split Testing set to have a post-processor 'Training'\n",
    "data_pp_train, data_pp_test = train_test_split(data_test,test_size = 0.4,random_state=42)\n",
    "X_pp_train,y_pp_train,dem_pp_train = split_data_from_df(data_pp_train)\n",
    "X_pp_test,y_pp_test,dem_pp_test = split_data_from_df(data_pp_test)\n",
    "\n",
    "group_a_pp_train = (dem_pp_train['Ethnicity']=='Black')\n",
    "group_b_pp_train = (dem_pp_train['Ethnicity']=='White')\n",
    "group_a_pp_test = (dem_pp_test['Ethnicity']=='Black')\n",
    "group_b_pp_test = (dem_pp_test['Ethnicity']=='White')\n",
    "\n",
    "# Fit processor on the 'training' data\n",
    "eq = EqualizedOdds(solver='highs', seed=42)\n",
    "fit_params = {\n",
    "    \"group_a\": group_a_pp_train,\n",
    "    \"group_b\": group_b_pp_train,\n",
    "}\n",
    "y_pred_pp_train = model.predict(X_pp_train)\n",
    "\n",
    "eq.fit(y_pp_train, y_pred_pp_train, **fit_params)\n",
    "\n",
    "# Apply Processor to Predictions from 'Test' Data\n",
    "fit_params = {\n",
    "    \"group_a\": group_a_pp_test,  # Define the first group (e.g., 'Black' candidates)\n",
    "    \"group_b\": group_b_pp_test,  # Define the second group (e.g., 'White' candidates)\n",
    "}\n",
    "\n",
    "y_pred_pp_test = model.predict(X_pp_test)  # Predict the labels for the test set\n",
    "\n",
    "d = eq.transform(y_pred_pp_test, **fit_params)  # Apply equalized odds processor to the predictions\n",
    "\n",
    "# Extract the new predictions after applying the fairness processor\n",
    "y_pred_pp_new = d['y_pred']\n",
    "\n",
    "# Evaluate and Plot Metrics\n",
    "metrics_eq = get_metrics(group_a_pp_test, group_b_pp_test, y_pred_pp_new, y_pp_test)  # Get fairness metrics\n",
    "display(metrics_eq)  # Display the fairness metrics\n",
    "\n",
    "metrics_orig['mitigation'] = 'None'\n",
    "metrics_eq['mitigation'] = 'Equalized Odds'\n",
    "metrics = pd.concat([metrics_orig, metrics_eq], axis=0, ignore_index=True)\n",
    "\n",
    "plt.figure(figsize=(10, 6))\n",
    "sns.barplot(data=metrics, x='Metric', y='Value', hue='mitigation')\n",
    "plt.axhline(y=0.8, linewidth=2, color='r', linestyle=\"--\")\n",
    "plt.axhline(y=-0.05, linewidth=2, color='r', linestyle=\"--\")\n",
    "plt.axhline(y=1, linewidth=2, color='g')\n",
    "plt.axhline(y=0, linewidth=2, color='g')\n",
    "plt.xticks(rotation=45, ha='right', fontsize=12)\n",
    "plt.show()"
   ]
  },
  {
   "cell_type": "markdown",
   "metadata": {
    "id": "fvwm9WKBlcQN"
   },
   "source": [
    "### **7. Using Explainability Techniques to Explore Bias**"
   ]
  },
  {
   "cell_type": "code",
   "execution_count": 29,
   "metadata": {
    "colab": {
     "base_uri": "https://localhost:8080/",
     "height": 236
    },
    "id": "0RoLKZuzbh0f",
    "outputId": "da92e702-8745-4467-8ccd-0909576a7d43"
   },
   "outputs": [
    {
     "data": {
      "text/html": [
       "<div>\n",
       "<style scoped>\n",
       "    .dataframe tbody tr th:only-of-type {\n",
       "        vertical-align: middle;\n",
       "    }\n",
       "\n",
       "    .dataframe tbody tr th {\n",
       "        vertical-align: top;\n",
       "    }\n",
       "\n",
       "    .dataframe thead th {\n",
       "        text-align: right;\n",
       "    }\n",
       "</style>\n",
       "<table border=\"1\" class=\"dataframe\">\n",
       "  <thead>\n",
       "    <tr style=\"text-align: right;\">\n",
       "      <th></th>\n",
       "      <th>Label</th>\n",
       "      <th>Gender</th>\n",
       "      <th>Ethnicity</th>\n",
       "      <th>0</th>\n",
       "      <th>1</th>\n",
       "      <th>2</th>\n",
       "      <th>3</th>\n",
       "      <th>4</th>\n",
       "      <th>5</th>\n",
       "      <th>6</th>\n",
       "      <th>...</th>\n",
       "      <th>40</th>\n",
       "      <th>41</th>\n",
       "      <th>42</th>\n",
       "      <th>43</th>\n",
       "      <th>44</th>\n",
       "      <th>45</th>\n",
       "      <th>46</th>\n",
       "      <th>47</th>\n",
       "      <th>48</th>\n",
       "      <th>49</th>\n",
       "    </tr>\n",
       "  </thead>\n",
       "  <tbody>\n",
       "    <tr>\n",
       "      <th>0</th>\n",
       "      <td>1</td>\n",
       "      <td>Female</td>\n",
       "      <td>Black</td>\n",
       "      <td>-0.178832</td>\n",
       "      <td>0.147077</td>\n",
       "      <td>0.775331</td>\n",
       "      <td>-0.427889</td>\n",
       "      <td>0.640818</td>\n",
       "      <td>-0.610427</td>\n",
       "      <td>-1.023371</td>\n",
       "      <td>...</td>\n",
       "      <td>0.513206</td>\n",
       "      <td>-0.042387</td>\n",
       "      <td>-0.355889</td>\n",
       "      <td>-0.465837</td>\n",
       "      <td>-2.832634</td>\n",
       "      <td>0.917297</td>\n",
       "      <td>-0.241052</td>\n",
       "      <td>-2.122105</td>\n",
       "      <td>0.253170</td>\n",
       "      <td>0.164617</td>\n",
       "    </tr>\n",
       "    <tr>\n",
       "      <th>1</th>\n",
       "      <td>0</td>\n",
       "      <td>Male</td>\n",
       "      <td>Black</td>\n",
       "      <td>0.152488</td>\n",
       "      <td>-0.731821</td>\n",
       "      <td>-0.167126</td>\n",
       "      <td>-1.193398</td>\n",
       "      <td>1.180502</td>\n",
       "      <td>0.469656</td>\n",
       "      <td>-0.044317</td>\n",
       "      <td>...</td>\n",
       "      <td>-0.483960</td>\n",
       "      <td>-1.292245</td>\n",
       "      <td>-0.298833</td>\n",
       "      <td>2.067846</td>\n",
       "      <td>0.304233</td>\n",
       "      <td>-0.160228</td>\n",
       "      <td>1.017770</td>\n",
       "      <td>-1.002570</td>\n",
       "      <td>0.844326</td>\n",
       "      <td>-1.155311</td>\n",
       "    </tr>\n",
       "    <tr>\n",
       "      <th>2</th>\n",
       "      <td>0</td>\n",
       "      <td>Female</td>\n",
       "      <td>Black</td>\n",
       "      <td>0.055918</td>\n",
       "      <td>-0.291155</td>\n",
       "      <td>-0.787822</td>\n",
       "      <td>-0.777313</td>\n",
       "      <td>1.304448</td>\n",
       "      <td>0.522195</td>\n",
       "      <td>-1.581933</td>\n",
       "      <td>...</td>\n",
       "      <td>0.015100</td>\n",
       "      <td>-0.140562</td>\n",
       "      <td>-2.259381</td>\n",
       "      <td>1.270556</td>\n",
       "      <td>0.150888</td>\n",
       "      <td>0.525393</td>\n",
       "      <td>-0.660325</td>\n",
       "      <td>0.531138</td>\n",
       "      <td>0.814141</td>\n",
       "      <td>-1.269334</td>\n",
       "    </tr>\n",
       "    <tr>\n",
       "      <th>3</th>\n",
       "      <td>0</td>\n",
       "      <td>Male</td>\n",
       "      <td>Black</td>\n",
       "      <td>0.698395</td>\n",
       "      <td>-0.312582</td>\n",
       "      <td>0.150934</td>\n",
       "      <td>1.706846</td>\n",
       "      <td>0.080574</td>\n",
       "      <td>0.127306</td>\n",
       "      <td>1.457853</td>\n",
       "      <td>...</td>\n",
       "      <td>-0.165776</td>\n",
       "      <td>-0.423251</td>\n",
       "      <td>0.420080</td>\n",
       "      <td>-0.257311</td>\n",
       "      <td>-0.828977</td>\n",
       "      <td>-0.204993</td>\n",
       "      <td>0.438121</td>\n",
       "      <td>1.175627</td>\n",
       "      <td>-0.684174</td>\n",
       "      <td>0.021289</td>\n",
       "    </tr>\n",
       "    <tr>\n",
       "      <th>4</th>\n",
       "      <td>0</td>\n",
       "      <td>Male</td>\n",
       "      <td>Black</td>\n",
       "      <td>-0.525550</td>\n",
       "      <td>1.774030</td>\n",
       "      <td>-0.625130</td>\n",
       "      <td>0.665376</td>\n",
       "      <td>0.217817</td>\n",
       "      <td>0.432447</td>\n",
       "      <td>-0.273375</td>\n",
       "      <td>...</td>\n",
       "      <td>0.160506</td>\n",
       "      <td>0.383675</td>\n",
       "      <td>1.401638</td>\n",
       "      <td>-0.904647</td>\n",
       "      <td>-1.345446</td>\n",
       "      <td>0.131165</td>\n",
       "      <td>0.376871</td>\n",
       "      <td>-0.770790</td>\n",
       "      <td>-0.749922</td>\n",
       "      <td>0.153647</td>\n",
       "    </tr>\n",
       "  </tbody>\n",
       "</table>\n",
       "<p>5 rows × 53 columns</p>\n",
       "</div>"
      ],
      "text/plain": [
       "   Label  Gender Ethnicity         0         1         2         3         4  \\\n",
       "0      1  Female     Black -0.178832  0.147077  0.775331 -0.427889  0.640818   \n",
       "1      0    Male     Black  0.152488 -0.731821 -0.167126 -1.193398  1.180502   \n",
       "2      0  Female     Black  0.055918 -0.291155 -0.787822 -0.777313  1.304448   \n",
       "3      0    Male     Black  0.698395 -0.312582  0.150934  1.706846  0.080574   \n",
       "4      0    Male     Black -0.525550  1.774030 -0.625130  0.665376  0.217817   \n",
       "\n",
       "          5         6  ...        40        41        42        43        44  \\\n",
       "0 -0.610427 -1.023371  ...  0.513206 -0.042387 -0.355889 -0.465837 -2.832634   \n",
       "1  0.469656 -0.044317  ... -0.483960 -1.292245 -0.298833  2.067846  0.304233   \n",
       "2  0.522195 -1.581933  ...  0.015100 -0.140562 -2.259381  1.270556  0.150888   \n",
       "3  0.127306  1.457853  ... -0.165776 -0.423251  0.420080 -0.257311 -0.828977   \n",
       "4  0.432447 -0.273375  ...  0.160506  0.383675  1.401638 -0.904647 -1.345446   \n",
       "\n",
       "         45        46        47        48        49  \n",
       "0  0.917297 -0.241052 -2.122105  0.253170  0.164617  \n",
       "1 -0.160228  1.017770 -1.002570  0.844326 -1.155311  \n",
       "2  0.525393 -0.660325  0.531138  0.814141 -1.269334  \n",
       "3 -0.204993  0.438121  1.175627 -0.684174  0.021289  \n",
       "4  0.131165  0.376871 -0.770790 -0.749922  0.153647  \n",
       "\n",
       "[5 rows x 53 columns]"
      ]
     },
     "execution_count": 29,
     "metadata": {},
     "output_type": "execute_result"
    }
   ],
   "source": [
    "# Download data, drop NaN values, and filter the dataset to only include 'Black' or 'White' candidates\n",
    "def split_data_from_df(data):\n",
    "    # Extract features (X), labels (y), and demographics (dem)\n",
    "    y = data['Label'].copy()\n",
    "    X = data[[str(i) for i in np.arange(50) if str(i) in data.columns]].copy()  # Select columns 0-49 for features\n",
    "    dem = data[['Ethnicity', 'Gender']].copy()  # Demographics: 'Ethnicity' and 'Gender'\n",
    "    return X, y, dem\n",
    "\n",
    "# Fetch the dataset from OpenML\n",
    "bunch = fetch_openml(data_id=44270)\n",
    "\n",
    "# Load the dataframe, drop rows with NaN values, and filter for only 'Black' and 'White' candidates\n",
    "df = bunch['frame'].dropna().copy()  # Remove rows with NaN values\n",
    "df = df[df['Ethnicity'].isin(['Black', 'White'])].reset_index(drop=True).copy()  # Filter by 'Black' or 'White' ethnicity\n",
    "\n",
    "# Display the first few rows of the cleaned dataset\n",
    "df.head()"
   ]
  },
  {
   "cell_type": "code",
   "execution_count": 30,
   "metadata": {
    "colab": {
     "base_uri": "https://localhost:8080/"
    },
    "id": "sKASEPLabiS2",
    "outputId": "19e1cd8c-cc8e-46ee-c351-a376e3b623ba"
   },
   "outputs": [
    {
     "name": "stdout",
     "output_type": "stream",
     "text": [
      "Accuracy = 0.69\n",
      "Disparate impact = 0.75\n"
     ]
    }
   ],
   "source": [
    "# Split the data into train and test sets (30% test size)\n",
    "data = df.copy()  # Create a copy of the original dataset\n",
    "data_train, data_test = train_test_split(data, test_size=0.3, random_state=3)\n",
    "\n",
    "# Process the training and test sets into features, labels, and demographics\n",
    "X_train, y_train, dem_train = split_data_from_df(data_train)\n",
    "X_test, y_test, dem_test = split_data_from_df(data_test)\n",
    "\n",
    "# Define and train the model (LightGBM Classifier)\n",
    "model = LGBMClassifier(random_state=42)\n",
    "model.fit(X_train, y_train)\n",
    "\n",
    "# Make predictions on the test set\n",
    "y_pred_test = model.predict(X_test)\n",
    "\n",
    "# Compute accuracy and disparate impact on the test set predictions\n",
    "group_a_test = (dem_test['Ethnicity'] == 'Black')  # Define group A (Black ethnicity)\n",
    "group_b_test = (dem_test['Ethnicity'] == 'White')  # Define group B (White ethnicity)\n",
    "acc_base = accuracy_score(y_pred_test, y_test)  # Calculate accuracy\n",
    "di_base = disparate_impact(group_a_test, group_b_test, y_pred_test)  # Calculate disparate impact\n",
    "\n",
    "# Print the results\n",
    "print(\"Accuracy = %.2f\" % acc_base)\n",
    "print(\"Disparate impact = %.2f\" % di_base)\n"
   ]
  },
  {
   "cell_type": "markdown",
   "metadata": {
    "id": "65fDtZjDmaGy"
   },
   "source": [
    "#### **7.1 Permutation Feature Importance**  \n",
    "\n",
    "Permutation Feature Importance is a model-agnostic technique used to measure the impact of each feature on a model’s predictions. Unlike model-specific methods, it works by assessing how shuffling a feature affects the model’s error.\n",
    "\n",
    "In linear regression, feature importance can be computed as the product of the feature value and its corresponding weight. However, for more complex or non-linear models, alternative approaches like *Permutation Feature Importance* are necessary.  \n",
    "\n",
    "Given:  \n",
    "- $X$ as the feature matrix (where each row $i$ represents a sample and each column $j$ represents a feature).  \n",
    "- $e$ as the model's prediction error when using $X$.  \n",
    "\n",
    "The feature importance of feature $j$ is determined as follows:  \n",
    "1. Create a new feature matrix $X_j$ by randomly permuting column $j$.  \n",
    "2. Compute the new model error $e_j$ using $X_j$.  \n",
    "3. Define the feature importance as:  \n",
    "\n",
    "$$\n",
    "FI_j = e_j - e\n",
    "$$\n",
    "\n",
    "In essence, this method evaluates the importance of a feature by randomly shuffling its values and observing how much the model's error changes.\n"
   ]
  },
  {
   "cell_type": "code",
   "execution_count": null,
   "metadata": {
    "colab": {
     "base_uri": "https://localhost:8080/",
     "height": 49,
     "referenced_widgets": [
      "6033f204ccd042dc9860db02957cc4ba",
      "38466d6483a14d33977ac09641c144dd",
      "014cbe84d76444f98db71c9313591501",
      "153cbed10da04f5d865b172ca472f38f",
      "125e925e6a154d8a8345dd22bb8420ed",
      "b67800e69de94a2cb49ed5d24801b5e5",
      "69eb7d25c6eb476abc285644bf741a9e",
      "4614b6e6da5a4969a9d9aa3a02bd0ad2",
      "d1f52def81c44f29a0578ea6c7c4b3ec",
      "2244c60fdea8476c8a71d1a875cf7be3",
      "4d91beea6d8647b488854b66d734237f"
     ]
    },
    "id": "MXi_Udn_bj-N",
    "outputId": "dd588480-2703-4342-cb0f-a51c43c85728"
   },
   "outputs": [],
   "source": [
    "# Function to permute a specific feature column in the dataset\n",
    "def permute_X(X, j):\n",
    "    Xj = X.copy()\n",
    "    Xj[j] = Xj[j].sample(frac=1).values  # Shuffle feature values\n",
    "    return Xj\n",
    "\n",
    "# Define parameters\n",
    "np.random.seed(10)\n",
    "n_features = 50\n",
    "n_iter = 10\n",
    "\n",
    "# Initialize arrays to store accuracy and disparate impact results\n",
    "accs = np.zeros((n_iter, n_features))\n",
    "dis = np.zeros((n_iter, n_features))\n",
    "\n",
    "# Iterate over features and perform permutation testing\n",
    "for j in tqdm(range(n_features)):\n",
    "    for i in range(n_iter):\n",
    "        # Shuffle feature j and make predictions\n",
    "        X_test_permuted = permute_X(X_test, str(j))\n",
    "        y_pred_test_permuted = model.predict(X_test_permuted)\n",
    "\n",
    "        # Compute accuracy and disparate impact and store results\n",
    "        accs[i, j] = accuracy_score(y_test, y_pred_test_permuted)\n",
    "        dis[i, j] = disparate_impact(group_a_test, group_b_test, y_pred_test_permuted)\n"
   ]
  },
  {
   "cell_type": "markdown",
   "metadata": {
    "id": "s24FjJmvou-N"
   },
   "source": [
    "#### **7.2 Feature Importance Impact on Accuracy**  "
   ]
  },
  {
   "cell_type": "code",
   "execution_count": 33,
   "metadata": {
    "colab": {
     "base_uri": "https://localhost:8080/",
     "height": 409
    },
    "id": "qWmJO7Afb49C",
    "outputId": "b2b780cf-7be5-44c0-c19d-b3e5b67081d2"
   },
   "outputs": [
    {
     "data": {
      "text/plain": [
       "<Axes: xlabel='feature', ylabel='imp_mean'>"
      ]
     },
     "execution_count": 33,
     "metadata": {},
     "output_type": "execute_result"
    },
    {
     "data": {
      "image/png": "[encoded data removed]",
      "text/plain": [
       "<Figure size 1000x400 with 1 Axes>"
      ]
     },
     "metadata": {},
     "output_type": "display_data"
    }
   ],
   "source": [
    "# Compute the change in accuracy and disparity when permuting each feature\n",
    "accs_diff = accs - acc_base\n",
    "dis_diff = dis - di_base\n",
    "\n",
    "# Compute mean and standard deviation of accuracy differences across runs\n",
    "means = accs_diff.mean(axis=0)\n",
    "stds = accs_diff.std(axis=0)\n",
    "\n",
    "# Create a DataFrame to store feature importance results\n",
    "df_imp = pd.DataFrame(np.arange(50), columns=['feature'])\n",
    "df_imp['feature'] = df_imp['feature'].astype(str)\n",
    "df_imp['imp_mean'] = means.round(3)\n",
    "df_imp['imp_std'] = stds.round(3)\n",
    "\n",
    "# Sort features by importance (descending order) and reset index\n",
    "df_imp = df_imp.sort_values(by='imp_mean', ascending=False).reset_index(drop=True)\n",
    "\n",
    "# Create a bar plot to visualize feature importance\n",
    "fig, ax = plt.subplots(1, 1, figsize=(10, 4))\n",
    "plt.xticks(rotation=90)\n",
    "sns.barplot(data=df_imp, y='imp_mean', x='feature', ax=ax)\n"
   ]
  },
  {
   "cell_type": "markdown",
   "metadata": {
    "id": "u6lBrgXcpBe8"
   },
   "source": [
    "#### **7.3 Feature Importance Impact on Bias**  "
   ]
  },
  {
   "cell_type": "code",
   "execution_count": 34,
   "metadata": {
    "colab": {
     "base_uri": "https://localhost:8080/",
     "height": 410
    },
    "id": "UMQaQHG5b-jj",
    "outputId": "7a8cddf1-8470-4712-cbae-a6be632eb052"
   },
   "outputs": [
    {
     "data": {
      "text/plain": [
       "<Axes: xlabel='feature', ylabel='imp_mean'>"
      ]
     },
     "execution_count": 34,
     "metadata": {},
     "output_type": "execute_result"
    },
    {
     "data": {
      "image/png": "[encoded data removed]",
      "text/plain": [
       "<Figure size 1000x400 with 1 Axes>"
      ]
     },
     "metadata": {},
     "output_type": "display_data"
    }
   ],
   "source": [
    "# Compute the mean and standard deviation of disparate impact differences per feature\n",
    "means = dis_diff.mean(axis=0)\n",
    "stds = dis_diff.std(axis=0)\n",
    "\n",
    "# Create a DataFrame to store feature importance based on disparity impact\n",
    "df_imp = pd.DataFrame(np.arange(50), columns=['feature'])\n",
    "df_imp['feature'] = df_imp['feature'].astype(str)\n",
    "df_imp['imp_mean'] = means.round(3)\n",
    "df_imp['imp_std'] = stds.round(3)\n",
    "\n",
    "# Sort features by importance\n",
    "df_imp = df_imp.sort_values(by='imp_mean', ascending=False).reset_index(drop=True)\n",
    "\n",
    "# Create a bar plot to visualize feature importance based on disparity impact\n",
    "fig, ax = plt.subplots(1, 1, figsize=(10, 4))\n",
    "plt.xticks(rotation=90)\n",
    "sns.barplot(data=df_imp, y='imp_mean', x='feature', ax=ax)\n"
   ]
  },
  {
   "cell_type": "markdown",
   "metadata": {
    "id": "TMKsqiTDqgn2"
   },
   "source": [
    "#### **7.4 Retrain Model Without Feature 3**  "
   ]
  },
  {
   "cell_type": "code",
   "execution_count": null,
   "metadata": {
    "colab": {
     "base_uri": "https://localhost:8080/"
    },
    "id": "hNsWjdGWcAxr",
    "outputId": "e49c2930-7a5e-456a-a746-f6bb8fd0c768"
   },
   "outputs": [
    {
     "name": "stdout",
     "output_type": "stream",
     "text": [
      "Accuracy = 0.68\n",
      "Disparate Impact = 0.83\n"
     ]
    }
   ],
   "source": [
    "# Define the model (LightGBM Classifier)\n",
    "model = LGBMClassifier(random_state=42)\n",
    "\n",
    "# Split data into train/test (30% test size)\n",
    "data_train, data_test = train_test_split(data, test_size=0.3, random_state=3)\n",
    "\n",
    "# Drop unnecessary column (assumed to be '3'), then split the train/test data into features, labels, and demographics\n",
    "data_train = data_train.drop(columns=['3']).copy()\n",
    "data_test = data_test.drop(columns=['3']).copy()\n",
    "X_train, y_train, dem_train = split_data_from_df(data_train)\n",
    "X_test, y_test, dem_test = split_data_from_df(data_test)\n",
    "\n",
    "# Train the model on the training set\n",
    "model.fit(X_train, y_train)\n",
    "\n",
    "# Make predictions on the test set\n",
    "y_pred_test = model.predict(X_test)\n",
    "\n",
    "# Get accuracy and disparate impact for the test set predictions\n",
    "group_a_test = (dem_test['Ethnicity'] == 'Black')  # Define group A (Black ethnicity)\n",
    "group_b_test = (dem_test['Ethnicity'] == 'White')  # Define group B (White ethnicity)\n",
    "acc = accuracy_score(y_pred_test, y_test)  # Calculate accuracy\n",
    "di = disparate_impact(group_a_test, group_b_test, y_pred_test)  # Calculate disparate impact\n",
    "\n",
    "print(\"Accuracy = %.2f\" % acc)\n",
    "print(\"Disparate Impact = %.2f\" % di)"
   ]
  }
 ],
 "metadata": {
  "colab": {
   "provenance": [],
   "toc_visible": true
  },
  "kernelspec": {
   "display_name": "Python 3 (ipykernel)",
   "language": "python",
   "name": "python3"
  },
  "language_info": {
   "codemirror_mode": {
    "name": "ipython",
    "version": 3
   },
   "file_extension": ".py",
   "mimetype": "text/x-python",
   "name": "python",
   "nbconvert_exporter": "python",
   "pygments_lexer": "ipython3",
   "version": "3.10.11"
  },
  "widgets": {
   "application/vnd.jupyter.widget-state+json": {
    "014cbe84d76444f98db71c9313591501": {
     "model_module": "@jupyter-widgets/controls",
     "model_module_version": "1.5.0",
     "model_name": "FloatProgressModel",
     "state": {
      "_dom_classes": [],
      "_model_module": "@jupyter-widgets/controls",
      "_model_module_version": "1.5.0",
      "_model_name": "FloatProgressModel",
      "_view_count": null,
      "_view_module": "@jupyter-widgets/controls",
      "_view_module_version": "1.5.0",
      "_view_name": "ProgressView",
      "bar_style": "success",
      "description": "",
      "description_tooltip": null,
      "layout": "IPY_MODEL_4614b6e6da5a4969a9d9aa3a02bd0ad2",
      "max": 50,
      "min": 0,
      "orientation": "horizontal",
      "style": "IPY_MODEL_d1f52def81c44f29a0578ea6c7c4b3ec",
      "value": 50
     }
    },
    "125e925e6a154d8a8345dd22bb8420ed": {
     "model_module": "@jupyter-widgets/base",
     "model_module_version": "1.2.0",
     "model_name": "LayoutModel",
     "state": {
      "_model_module": "@jupyter-widgets/base",
      "_model_module_version": "1.2.0",
      "_model_name": "LayoutModel",
      "_view_count": null,
      "_view_module": "@jupyter-widgets/base",
      "_view_module_version": "1.2.0",
      "_view_name": "LayoutView",
      "align_content": null,
      "align_items": null,
      "align_self": null,
      "border": null,
      "bottom": null,
      "display": null,
      "flex": null,
      "flex_flow": null,
      "grid_area": null,
      "grid_auto_columns": null,
      "grid_auto_flow": null,
      "grid_auto_rows": null,
      "grid_column": null,
      "grid_gap": null,
      "grid_row": null,
      "grid_template_areas": null,
      "grid_template_columns": null,
      "grid_template_rows": null,
      "height": null,
      "justify_content": null,
      "justify_items": null,
      "left": null,
      "margin": null,
      "max_height": null,
      "max_width": null,
      "min_height": null,
      "min_width": null,
      "object_fit": null,
      "object_position": null,
      "order": null,
      "overflow": null,
      "overflow_x": null,
      "overflow_y": null,
      "padding": null,
      "right": null,
      "top": null,
      "visibility": null,
      "width": null
     }
    },
    "153cbed10da04f5d865b172ca472f38f": {
     "model_module": "@jupyter-widgets/controls",
     "model_module_version": "1.5.0",
     "model_name": "HTMLModel",
     "state": {
      "_dom_classes": [],
      "_model_module": "@jupyter-widgets/controls",
      "_model_module_version": "1.5.0",
      "_model_name": "HTMLModel",
      "_view_count": null,
      "_view_module": "@jupyter-widgets/controls",
      "_view_module_version": "1.5.0",
      "_view_name": "HTMLView",
      "description": "",
      "description_tooltip": null,
      "layout": "IPY_MODEL_2244c60fdea8476c8a71d1a875cf7be3",
      "placeholder": "​",
      "style": "IPY_MODEL_4d91beea6d8647b488854b66d734237f",
      "value": " 50/50 [00:08&lt;00:00,  7.67it/s]"
     }
    },
    "2244c60fdea8476c8a71d1a875cf7be3": {
     "model_module": "@jupyter-widgets/base",
     "model_module_version": "1.2.0",
     "model_name": "LayoutModel",
     "state": {
      "_model_module": "@jupyter-widgets/base",
      "_model_module_version": "1.2.0",
      "_model_name": "LayoutModel",
      "_view_count": null,
      "_view_module": "@jupyter-widgets/base",
      "_view_module_version": "1.2.0",
      "_view_name": "LayoutView",
      "align_content": null,
      "align_items": null,
      "align_self": null,
      "border": null,
      "bottom": null,
      "display": null,
      "flex": null,
      "flex_flow": null,
      "grid_area": null,
      "grid_auto_columns": null,
      "grid_auto_flow": null,
      "grid_auto_rows": null,
      "grid_column": null,
      "grid_gap": null,
      "grid_row": null,
      "grid_template_areas": null,
      "grid_template_columns": null,
      "grid_template_rows": null,
      "height": null,
      "justify_content": null,
      "justify_items": null,
      "left": null,
      "margin": null,
      "max_height": null,
      "max_width": null,
      "min_height": null,
      "min_width": null,
      "object_fit": null,
      "object_position": null,
      "order": null,
      "overflow": null,
      "overflow_x": null,
      "overflow_y": null,
      "padding": null,
      "right": null,
      "top": null,
      "visibility": null,
      "width": null
     }
    },
    "38466d6483a14d33977ac09641c144dd": {
     "model_module": "@jupyter-widgets/controls",
     "model_module_version": "1.5.0",
     "model_name": "HTMLModel",
     "state": {
      "_dom_classes": [],
      "_model_module": "@jupyter-widgets/controls",
      "_model_module_version": "1.5.0",
      "_model_name": "HTMLModel",
      "_view_count": null,
      "_view_module": "@jupyter-widgets/controls",
      "_view_module_version": "1.5.0",
      "_view_name": "HTMLView",
      "description": "",
      "description_tooltip": null,
      "layout": "IPY_MODEL_b67800e69de94a2cb49ed5d24801b5e5",
      "placeholder": "​",
      "style": "IPY_MODEL_69eb7d25c6eb476abc285644bf741a9e",
      "value": "100%"
     }
    },
    "4614b6e6da5a4969a9d9aa3a02bd0ad2": {
     "model_module": "@jupyter-widgets/base",
     "model_module_version": "1.2.0",
     "model_name": "LayoutModel",
     "state": {
      "_model_module": "@jupyter-widgets/base",
      "_model_module_version": "1.2.0",
      "_model_name": "LayoutModel",
      "_view_count": null,
      "_view_module": "@jupyter-widgets/base",
      "_view_module_version": "1.2.0",
      "_view_name": "LayoutView",
      "align_content": null,
      "align_items": null,
      "align_self": null,
      "border": null,
      "bottom": null,
      "display": null,
      "flex": null,
      "flex_flow": null,
      "grid_area": null,
      "grid_auto_columns": null,
      "grid_auto_flow": null,
      "grid_auto_rows": null,
      "grid_column": null,
      "grid_gap": null,
      "grid_row": null,
      "grid_template_areas": null,
      "grid_template_columns": null,
      "grid_template_rows": null,
      "height": null,
      "justify_content": null,
      "justify_items": null,
      "left": null,
      "margin": null,
      "max_height": null,
      "max_width": null,
      "min_height": null,
      "min_width": null,
      "object_fit": null,
      "object_position": null,
      "order": null,
      "overflow": null,
      "overflow_x": null,
      "overflow_y": null,
      "padding": null,
      "right": null,
      "top": null,
      "visibility": null,
      "width": null
     }
    },
    "4d91beea6d8647b488854b66d734237f": {
     "model_module": "@jupyter-widgets/controls",
     "model_module_version": "1.5.0",
     "model_name": "DescriptionStyleModel",
     "state": {
      "_model_module": "@jupyter-widgets/controls",
      "_model_module_version": "1.5.0",
      "_model_name": "DescriptionStyleModel",
      "_view_count": null,
      "_view_module": "@jupyter-widgets/base",
      "_view_module_version": "1.2.0",
      "_view_name": "StyleView",
      "description_width": ""
     }
    },
    "6033f204ccd042dc9860db02957cc4ba": {
     "model_module": "@jupyter-widgets/controls",
     "model_module_version": "1.5.0",
     "model_name": "HBoxModel",
     "state": {
      "_dom_classes": [],
      "_model_module": "@jupyter-widgets/controls",
      "_model_module_version": "1.5.0",
      "_model_name": "HBoxModel",
      "_view_count": null,
      "_view_module": "@jupyter-widgets/controls",
      "_view_module_version": "1.5.0",
      "_view_name": "HBoxView",
      "box_style": "",
      "children": [
       "IPY_MODEL_38466d6483a14d33977ac09641c144dd",
       "IPY_MODEL_014cbe84d76444f98db71c9313591501",
       "IPY_MODEL_153cbed10da04f5d865b172ca472f38f"
      ],
      "layout": "IPY_MODEL_125e925e6a154d8a8345dd22bb8420ed"
     }
    },
    "69eb7d25c6eb476abc285644bf741a9e": {
     "model_module": "@jupyter-widgets/controls",
     "model_module_version": "1.5.0",
     "model_name": "DescriptionStyleModel",
     "state": {
      "_model_module": "@jupyter-widgets/controls",
      "_model_module_version": "1.5.0",
      "_model_name": "DescriptionStyleModel",
      "_view_count": null,
      "_view_module": "@jupyter-widgets/base",
      "_view_module_version": "1.2.0",
      "_view_name": "StyleView",
      "description_width": ""
     }
    },
    "b67800e69de94a2cb49ed5d24801b5e5": {
     "model_module": "@jupyter-widgets/base",
     "model_module_version": "1.2.0",
     "model_name": "LayoutModel",
     "state": {
      "_model_module": "@jupyter-widgets/base",
      "_model_module_version": "1.2.0",
      "_model_name": "LayoutModel",
      "_view_count": null,
      "_view_module": "@jupyter-widgets/base",
      "_view_module_version": "1.2.0",
      "_view_name": "LayoutView",
      "align_content": null,
      "align_items": null,
      "align_self": null,
      "border": null,
      "bottom": null,
      "display": null,
      "flex": null,
      "flex_flow": null,
      "grid_area": null,
      "grid_auto_columns": null,
      "grid_auto_flow": null,
      "grid_auto_rows": null,
      "grid_column": null,
      "grid_gap": null,
      "grid_row": null,
      "grid_template_areas": null,
      "grid_template_columns": null,
      "grid_template_rows": null,
      "height": null,
      "justify_content": null,
      "justify_items": null,
      "left": null,
      "margin": null,
      "max_height": null,
      "max_width": null,
      "min_height": null,
      "min_width": null,
      "object_fit": null,
      "object_position": null,
      "order": null,
      "overflow": null,
      "overflow_x": null,
      "overflow_y": null,
      "padding": null,
      "right": null,
      "top": null,
      "visibility": null,
      "width": null
     }
    },
    "d1f52def81c44f29a0578ea6c7c4b3ec": {
     "model_module": "@jupyter-widgets/controls",
     "model_module_version": "1.5.0",
     "model_name": "ProgressStyleModel",
     "state": {
      "_model_module": "@jupyter-widgets/controls",
      "_model_module_version": "1.5.0",
      "_model_name": "ProgressStyleModel",
      "_view_count": null,
      "_view_module": "@jupyter-widgets/base",
      "_view_module_version": "1.2.0",
      "_view_name": "StyleView",
      "bar_color": null,
      "description_width": ""
     }
    }
   }
  }
 },
 "nbformat": 4,
 "nbformat_minor": 4
}
